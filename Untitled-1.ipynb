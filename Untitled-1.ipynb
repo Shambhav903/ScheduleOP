{
 "cells": [
  {
   "cell_type": "markdown",
   "metadata": {},
   "source": [
    "# rough\n",
    "atom = part of gene ex: 'Aa2'\n",
    "\n",
    "## legitimacy of gene\n",
    "one student group must have at most 18 classes per week\n",
    "\n",
    "Only one occurance for one subject A-G only once per day\n",
    "\n",
    "Same classroom cannot have two student groups at once\n",
    "\n",
    "Once subject only twice per week\n",
    "\n",
    "## Conflict score\n"
   ]
  },
  {
   "cell_type": "markdown",
   "metadata": {},
   "source": []
  }
 ],
 "metadata": {
  "language_info": {
   "name": "python"
  },
  "orig_nbformat": 4
 },
 "nbformat": 4,
 "nbformat_minor": 2
}
