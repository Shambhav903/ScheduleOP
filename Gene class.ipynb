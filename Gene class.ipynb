{
 "cells": [
  {
   "cell_type": "code",
   "execution_count": 111,
   "id": "64542b46",
   "metadata": {},
   "outputs": [],
   "source": [
    "import random\n",
    "import numpy as np\n",
    "from prettytable import PrettyTable"
   ]
  },
  {
   "cell_type": "code",
   "execution_count": 131,
   "id": "2249c0f2",
   "metadata": {},
   "outputs": [],
   "source": [
    "'''\n",
    "valid gene\n",
    "({A-G}{a-c}{1-3})\n",
    "'''\n",
    "\n",
    "subject = ['A', 'B', 'C', 'D', 'E', 'F', 'G']\n",
    "batch = ['a', 'b', 'c']\n",
    "room = ['1','2','3']\n",
    "GENES = [N + n + l for N in subject for n in batch for l in room]"
   ]
  },
  {
   "cell_type": "code",
   "execution_count": 132,
   "id": "72d05264",
   "metadata": {},
   "outputs": [],
   "source": [
    "class Gene(object):\n",
    "    '''\n",
    "    Class representing individual in population\n",
    "    '''    \n",
    "    def __init__(self, gene='',count=0, decomp =[]):\n",
    "        self.gene = gene\n",
    "        if not self.gene:\n",
    "            self.gene = self.create_gene()\n",
    "        print(self.gene)\n",
    "        self.count = self.cal_conflict(self.gene)\n",
    "        self.decomp = self.decompose(self.gene)\n",
    "        \n",
    "    @classmethod\n",
    "    def mutated(self):\n",
    "        '''\n",
    "        create random genes for mutation \n",
    "        Ruby\n",
    "        '''\n",
    "        global GENES\n",
    "        chro = random.choice(GENES)\n",
    "        return chro\n",
    "\n",
    "    @classmethod\n",
    "    \n",
    "    def create_gene(self):\n",
    "        '''\n",
    "        create chromosome or string of genes\n",
    "        Ruby\n",
    "        '''\n",
    "        global GENES\n",
    "        a = ''\n",
    "        for i in range (0,54) : \n",
    "            random_num = random.choice(GENES)\n",
    "            #print( str(random_num))\n",
    "            a = a + str(random_num)\n",
    "        return a\n",
    "    @classmethod\n",
    "    def decompose(self,gene):\n",
    "        '''\n",
    "        Decompose the gene into array\n",
    "        Ankur\n",
    "        '''\n",
    "        # Initialize three empty arrays to store the decomposed elements\n",
    "        array1 = []\n",
    "        array2 = []\n",
    "        array3 = []\n",
    "\n",
    "        # Calculate the length of the gene string and divide it by 3 to determine the number of iterations\n",
    "        num_iterations = int(len(gene) / 3)\n",
    "\n",
    "        # Loop through the string in increments of 3 characters\n",
    "        for i in range(num_iterations):\n",
    "        # Calculate the positions for each array\n",
    "            position1 = i * 3\n",
    "            position2 = i * 3 + 1\n",
    "            position3 = i * 3 + 2\n",
    "\n",
    "            # Append the elements at the calculated positions to their respective arrays\n",
    "            array1.append(gene[position1])\n",
    "            array2.append(gene[position2])\n",
    "            array3.append(gene[position3])\n",
    "\n",
    "        combined_a= np.vstack((array1,array2,array3))\n",
    "        return combined_a\n",
    "    @classmethod\n",
    "    def display(self,gene):\n",
    "        '''\n",
    "        Convert the gene code to a user understandable table\n",
    "        Shambhav\n",
    "        '''\n",
    "        \n",
    "        random = gene\n",
    "        #splitting the string into 3 elements each\n",
    "        n = 3\n",
    "        new_list = [random[i:i+n] for i in range(0, len(random), n)]\n",
    "\n",
    "        table_1 = [] \n",
    "        table_2 = [] \n",
    "        table_3 = [] \n",
    "\n",
    "        t1 = PrettyTable(['9-11','12-2','2-4'])\n",
    "        t2 = PrettyTable(['9-11','12-2','2-4'])\n",
    "        t3 = PrettyTable(['9-11','12-2','2-4'])\n",
    "\n",
    "        for j in range(0, len(new_list)):\n",
    "            if (new_list[j][1]== 'a'):\n",
    "                table_1.append(new_list[j])\n",
    "            if (new_list[j][1]== 'b'):\n",
    "                table_2.append(new_list[j])\n",
    "            if (new_list[j][1]== 'c'):\n",
    "                table_3.append(new_list[j])\n",
    "\n",
    "        new_t_1 = [table_1[i:i+n] for i in range(0, len(table_1), n)]\n",
    "        new_t_2 = [table_2[i:i+n] for i in range(0, len(table_2), n)]\n",
    "        new_t_3 = [table_3[i:i+n] for i in range(0, len(table_3), n)]\n",
    "\n",
    "        t1.add_rows(new_t_1)\n",
    "        t2.add_rows(new_t_2)\n",
    "        t3.add_rows(new_t_3)\n",
    "\n",
    "\n",
    "        print(t1)\n",
    "        print(t2)\n",
    "        print(t3)\n",
    "    @classmethod\n",
    "    def cal_conflict(self,gene):\n",
    "        '''\n",
    "        Count the number of conlict in the sequence\n",
    "        Ayam        \n",
    "        '''\n",
    "        # Initialize an empty list to store the chromosomes\n",
    "        chromosomes = []\n",
    "\n",
    "        # Count for conflicts\n",
    "        count = 0\n",
    "\n",
    "        # Define the combinations to check\n",
    "        # HAVE TO INTEGRATE WITH RUBY'S SAMPLE SPACE\n",
    "\n",
    "        combinations = [f\"{big}{small}\" for big in \"ABCDEF\" for small in \"abc\" if f\"{big}{small}\" not in [\"Ga\", \"Gb\", \"Gc\"]]\n",
    "\n",
    "        # Initialize the count the occurrences of each combination\n",
    "        combination_counts = {combo: 0 for combo in combinations}\n",
    "\n",
    "        # Iterate over the string in chunks of 9 characters and append them to the list\n",
    "        #  INTEGRATE WITH THE DECOMPOSITION FUNCTION \n",
    "\n",
    "        for i in range(0, len(gene), 9):\n",
    "            #Chromosome is of 9 character each element is one slot\n",
    "            chromosome = gene[i:i+9]\n",
    "            chromosomes.append(chromosome)\n",
    "            #to count occurance of Aa to Fc - not G as G is for break and can occur multiple times\n",
    "            for a in range(0,3):\n",
    "                combination = chromosome[0+3*a:2+3*a]\n",
    "                #print(combination) #check the combination saved if it matches gene and is 54 element long\n",
    "                if combination in combination_counts:\n",
    "                    combination_counts[combination] += 1\n",
    "\n",
    "        # Check if all Aa to Fc is of count 2 and update the conflict count for every Aa to Fc that isnt repeated twice\n",
    "        for combo, combo_count in combination_counts.items():\n",
    "            if combo_count != 2:\n",
    "                count += 1\n",
    "\n",
    "        for chromosome in chromosomes:\n",
    "            # Check if the chromosome contains 'a', 'b', and 'c' in any order\n",
    "            # All the student groups are accounted for\n",
    "            has_abc = all(char in chromosome for char in 'abc')\n",
    "            # Check if the chromosome contains '1', '2', and '3' in any order\n",
    "            # All the rooms are accounted for\n",
    "            has_123 = all(char in chromosome for char in '123')\n",
    "                # Increment the count for each valid chromosome\n",
    "            if not has_abc and not has_123:\n",
    "                count += 1\n",
    "        return count"
   ]
  },
  {
   "cell_type": "code",
   "execution_count": 133,
   "id": "5b5be8d2",
   "metadata": {},
   "outputs": [
    {
     "name": "stdout",
     "output_type": "stream",
     "text": [
      "Ca1Fa3Da2Fb3Ea3Ga3Fc2Eb2Ba2Ea1Ea1Fc3Eb3Eb3Gb2Ba3Cb1Ea1Ab1Ac3Aa1Ea2Fa3Cb2Gb1Cb1Gb3Ec1Ba2Fa3Aa2Ab3Ac1Ba2Ba2Fc2Cb2Da3Ba1Cc3Bb1Fb1Da2Ac3Gb3Gb1Cb3Ba1Gc1Gb1Gb1Fb2Da1Gb2\n"
     ]
    }
   ],
   "source": [
    "g1 = Gene()"
   ]
  },
  {
   "cell_type": "code",
   "execution_count": 134,
   "id": "39ba43c9",
   "metadata": {},
   "outputs": [
    {
     "data": {
      "text/plain": [
       "27"
      ]
     },
     "execution_count": 134,
     "metadata": {},
     "output_type": "execute_result"
    }
   ],
   "source": [
    "g1.count"
   ]
  },
  {
   "cell_type": "code",
   "execution_count": 135,
   "id": "911d2a65",
   "metadata": {},
   "outputs": [
    {
     "data": {
      "text/plain": [
       "'Fc3'"
      ]
     },
     "execution_count": 135,
     "metadata": {},
     "output_type": "execute_result"
    }
   ],
   "source": [
    "g1.mutated()"
   ]
  },
  {
   "cell_type": "code",
   "execution_count": 136,
   "id": "2c256453",
   "metadata": {},
   "outputs": [
    {
     "name": "stdout",
     "output_type": "stream",
     "text": [
      "[['C' 'F' 'D' 'F' 'E' 'G' 'F' 'E' 'B' 'E' 'E' 'F' 'E' 'E' 'G' 'B' 'C' 'E'\n",
      "  'A' 'A' 'A' 'E' 'F' 'C' 'G' 'C' 'G' 'E' 'B' 'F' 'A' 'A' 'A' 'B' 'B' 'F'\n",
      "  'C' 'D' 'B' 'C' 'B' 'F' 'D' 'A' 'G' 'G' 'C' 'B' 'G' 'G' 'G' 'F' 'D' 'G']\n",
      " ['a' 'a' 'a' 'b' 'a' 'a' 'c' 'b' 'a' 'a' 'a' 'c' 'b' 'b' 'b' 'a' 'b' 'a'\n",
      "  'b' 'c' 'a' 'a' 'a' 'b' 'b' 'b' 'b' 'c' 'a' 'a' 'a' 'b' 'c' 'a' 'a' 'c'\n",
      "  'b' 'a' 'a' 'c' 'b' 'b' 'a' 'c' 'b' 'b' 'b' 'a' 'c' 'b' 'b' 'b' 'a' 'b']\n",
      " ['1' '3' '2' '3' '3' '3' '2' '2' '2' '1' '1' '3' '3' '3' '2' '3' '1' '1'\n",
      "  '1' '3' '1' '2' '3' '2' '1' '1' '3' '1' '2' '3' '2' '3' '1' '2' '2' '2'\n",
      "  '2' '3' '1' '3' '1' '1' '2' '3' '3' '1' '3' '1' '1' '1' '1' '2' '1' '2']]\n"
     ]
    }
   ],
   "source": [
    "print(g1.decomp)"
   ]
  },
  {
   "cell_type": "code",
   "execution_count": 130,
   "id": "afb4ea58",
   "metadata": {},
   "outputs": [
    {
     "ename": "ValueError",
     "evalue": "Row has incorrect number of values, (actual) 1!=3 (expected)",
     "output_type": "error",
     "traceback": [
      "\u001b[1;31m---------------------------------------------------------------------------\u001b[0m",
      "\u001b[1;31mValueError\u001b[0m                                Traceback (most recent call last)",
      "Cell \u001b[1;32mIn[130], line 1\u001b[0m\n\u001b[1;32m----> 1\u001b[0m \u001b[43mg1\u001b[49m\u001b[38;5;241;43m.\u001b[39;49m\u001b[43mdisplay\u001b[49m\u001b[43m(\u001b[49m\u001b[43mg1\u001b[49m\u001b[38;5;241;43m.\u001b[39;49m\u001b[43mgene\u001b[49m\u001b[43m)\u001b[49m\n",
      "Cell \u001b[1;32mIn[125], line 98\u001b[0m, in \u001b[0;36mGene.display\u001b[1;34m(self, gene)\u001b[0m\n\u001b[0;32m     95\u001b[0m new_t_3 \u001b[38;5;241m=\u001b[39m [table_3[i:i\u001b[38;5;241m+\u001b[39mn] \u001b[38;5;28;01mfor\u001b[39;00m i \u001b[38;5;129;01min\u001b[39;00m \u001b[38;5;28mrange\u001b[39m(\u001b[38;5;241m0\u001b[39m, \u001b[38;5;28mlen\u001b[39m(table_3), n)]\n\u001b[0;32m     97\u001b[0m t1\u001b[38;5;241m.\u001b[39madd_rows(new_t_1)\n\u001b[1;32m---> 98\u001b[0m \u001b[43mt2\u001b[49m\u001b[38;5;241;43m.\u001b[39;49m\u001b[43madd_rows\u001b[49m\u001b[43m(\u001b[49m\u001b[43mnew_t_2\u001b[49m\u001b[43m)\u001b[49m\n\u001b[0;32m     99\u001b[0m t3\u001b[38;5;241m.\u001b[39madd_rows(new_t_3)\n\u001b[0;32m    102\u001b[0m \u001b[38;5;28mprint\u001b[39m(t1)\n",
      "File \u001b[1;32mc:\\users\\03aay\\appdata\\local\\programs\\python\\python38\\lib\\site-packages\\prettytable\\prettytable.py:1400\u001b[0m, in \u001b[0;36mPrettyTable.add_rows\u001b[1;34m(self, rows)\u001b[0m\n\u001b[0;32m   1393\u001b[0m \u001b[38;5;250m\u001b[39m\u001b[38;5;124;03m\"\"\"Add rows to the table\u001b[39;00m\n\u001b[0;32m   1394\u001b[0m \n\u001b[0;32m   1395\u001b[0m \u001b[38;5;124;03mArguments:\u001b[39;00m\n\u001b[0;32m   1396\u001b[0m \n\u001b[0;32m   1397\u001b[0m \u001b[38;5;124;03mrows - rows of data, should be an iterable of lists, each list with as many\u001b[39;00m\n\u001b[0;32m   1398\u001b[0m \u001b[38;5;124;03melements as the table has fields\"\"\"\u001b[39;00m\n\u001b[0;32m   1399\u001b[0m \u001b[38;5;28;01mfor\u001b[39;00m row \u001b[38;5;129;01min\u001b[39;00m rows:\n\u001b[1;32m-> 1400\u001b[0m     \u001b[38;5;28;43mself\u001b[39;49m\u001b[38;5;241;43m.\u001b[39;49m\u001b[43madd_row\u001b[49m\u001b[43m(\u001b[49m\u001b[43mrow\u001b[49m\u001b[43m)\u001b[49m\n",
      "File \u001b[1;32mc:\\users\\03aay\\appdata\\local\\programs\\python\\python38\\lib\\site-packages\\prettytable\\prettytable.py:1412\u001b[0m, in \u001b[0;36mPrettyTable.add_row\u001b[1;34m(self, row)\u001b[0m\n\u001b[0;32m   1404\u001b[0m \u001b[38;5;250m\u001b[39m\u001b[38;5;124;03m\"\"\"Add a row to the table\u001b[39;00m\n\u001b[0;32m   1405\u001b[0m \n\u001b[0;32m   1406\u001b[0m \u001b[38;5;124;03mArguments:\u001b[39;00m\n\u001b[0;32m   1407\u001b[0m \n\u001b[0;32m   1408\u001b[0m \u001b[38;5;124;03mrow - row of data, should be a list with as many elements as the table\u001b[39;00m\n\u001b[0;32m   1409\u001b[0m \u001b[38;5;124;03mhas fields\"\"\"\u001b[39;00m\n\u001b[0;32m   1411\u001b[0m \u001b[38;5;28;01mif\u001b[39;00m \u001b[38;5;28mself\u001b[39m\u001b[38;5;241m.\u001b[39m_field_names \u001b[38;5;129;01mand\u001b[39;00m \u001b[38;5;28mlen\u001b[39m(row) \u001b[38;5;241m!=\u001b[39m \u001b[38;5;28mlen\u001b[39m(\u001b[38;5;28mself\u001b[39m\u001b[38;5;241m.\u001b[39m_field_names):\n\u001b[1;32m-> 1412\u001b[0m     \u001b[38;5;28;01mraise\u001b[39;00m \u001b[38;5;167;01mValueError\u001b[39;00m(\n\u001b[0;32m   1413\u001b[0m         \u001b[38;5;124m\"\u001b[39m\u001b[38;5;124mRow has incorrect number of values, \u001b[39m\u001b[38;5;124m\"\u001b[39m\n\u001b[0;32m   1414\u001b[0m         \u001b[38;5;124mf\u001b[39m\u001b[38;5;124m\"\u001b[39m\u001b[38;5;124m(actual) \u001b[39m\u001b[38;5;132;01m{\u001b[39;00m\u001b[38;5;28mlen\u001b[39m(row)\u001b[38;5;132;01m}\u001b[39;00m\u001b[38;5;124m!=\u001b[39m\u001b[38;5;132;01m{\u001b[39;00m\u001b[38;5;28mlen\u001b[39m(\u001b[38;5;28mself\u001b[39m\u001b[38;5;241m.\u001b[39m_field_names)\u001b[38;5;132;01m}\u001b[39;00m\u001b[38;5;124m (expected)\u001b[39m\u001b[38;5;124m\"\u001b[39m\n\u001b[0;32m   1415\u001b[0m     )\n\u001b[0;32m   1416\u001b[0m \u001b[38;5;28;01mif\u001b[39;00m \u001b[38;5;129;01mnot\u001b[39;00m \u001b[38;5;28mself\u001b[39m\u001b[38;5;241m.\u001b[39m_field_names:\n\u001b[0;32m   1417\u001b[0m     \u001b[38;5;28mself\u001b[39m\u001b[38;5;241m.\u001b[39mfield_names \u001b[38;5;241m=\u001b[39m [\u001b[38;5;124mf\u001b[39m\u001b[38;5;124m\"\u001b[39m\u001b[38;5;124mField \u001b[39m\u001b[38;5;132;01m{\u001b[39;00mn\u001b[38;5;250m \u001b[39m\u001b[38;5;241m+\u001b[39m\u001b[38;5;250m \u001b[39m\u001b[38;5;241m1\u001b[39m\u001b[38;5;132;01m}\u001b[39;00m\u001b[38;5;124m\"\u001b[39m \u001b[38;5;28;01mfor\u001b[39;00m n \u001b[38;5;129;01min\u001b[39;00m \u001b[38;5;28mrange\u001b[39m(\u001b[38;5;241m0\u001b[39m, \u001b[38;5;28mlen\u001b[39m(row))]\n",
      "\u001b[1;31mValueError\u001b[0m: Row has incorrect number of values, (actual) 1!=3 (expected)"
     ]
    }
   ],
   "source": [
    "g1.display(g1.gene)"
   ]
  },
  {
   "cell_type": "code",
   "execution_count": null,
   "id": "9acb2a25",
   "metadata": {},
   "outputs": [],
   "source": []
  }
 ],
 "metadata": {
  "kernelspec": {
   "display_name": "Python 3 (ipykernel)",
   "language": "python",
   "name": "python3"
  },
  "language_info": {
   "codemirror_mode": {
    "name": "ipython",
    "version": 3
   },
   "file_extension": ".py",
   "mimetype": "text/x-python",
   "name": "python",
   "nbconvert_exporter": "python",
   "pygments_lexer": "ipython3",
   "version": "3.8.10"
  }
 },
 "nbformat": 4,
 "nbformat_minor": 5
}
