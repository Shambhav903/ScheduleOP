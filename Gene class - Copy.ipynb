{
 "cells": [
  {
   "cell_type": "code",
   "execution_count": 2,
   "id": "64542b46",
   "metadata": {},
   "outputs": [],
   "source": [
    "import random\n",
    "import numpy as np\n",
    "from prettytable import PrettyTable"
   ]
  },
  {
   "cell_type": "code",
   "execution_count": 3,
   "id": "2249c0f2",
   "metadata": {},
   "outputs": [],
   "source": [
    "'''\n",
    "valid gene\n",
    "({A-G}{a-c}{1-3})\n",
    "'''\n",
    "\n",
    "subject = ['A', 'B', 'C', 'D', 'E', 'F', 'G']\n",
    "batch = ['a', 'b', 'c']\n",
    "room = ['1','2','3']\n",
    "\n",
    "GENES = [N + n + l for N in subject for n in batch for l in room]"
   ]
  },
  {
   "cell_type": "code",
   "execution_count": 9,
   "id": "cf248d64",
   "metadata": {},
   "outputs": [],
   "source": [
    "def random_atom(a,b):\n",
    "    x = random.uniform(0, 1)\n",
    "    if x <= 0.45:\n",
    "        return a\n",
    "    elif x <= 0.9:\n",
    "        return a\n",
    "    return random.choice(GENES)"
   ]
  },
  {
   "cell_type": "code",
   "execution_count": 10,
   "id": "72d05264",
   "metadata": {},
   "outputs": [],
   "source": [
    "class Gene(object):\n",
    "    '''\n",
    "    Class representing individual in population\n",
    "    '''    \n",
    "    def __init__(self):\n",
    "        self.gene = self.create_gene()\n",
    "        self.count = self.cal_conflict(self.gene)\n",
    "        self.decomp = self.decompose(self.gene)\n",
    "        \n",
    "\n",
    "    @classmethod\n",
    "    \n",
    "    def create_gene(self):\n",
    "        '''\n",
    "        create chromosome or string of genes\n",
    "        Ruby\n",
    "        '''\n",
    "        global GENES\n",
    "        a = ''\n",
    "        for i in range (0,54) : \n",
    "            random_num = random.choice(GENES)\n",
    "            a = a + str(random_num)\n",
    "        return a\n",
    "    \n",
    "    @classmethod\n",
    "    def decompose(self,gene):\n",
    "        arr = np.empty((3,54), str)\n",
    "        for i in range(0, len(gene),3):\n",
    "            for j in range(0,3):\n",
    "                arr[j][i//3] = gene[i+j]\n",
    "        return arr\n",
    "    \n",
    "    @classmethod\n",
    "    def display(self,gene):\n",
    "        '''\n",
    "        Convert the gene code to a user understandable table\n",
    "        Shambhav\n",
    "        '''\n",
    "        \n",
    "        random = gene\n",
    "        #splitting the string into 3 elements each\n",
    "        n = 3\n",
    "        new_list = [random[i:i+n] for i in range(0, len(random), n)]\n",
    "\n",
    "        table_1 = [] \n",
    "        table_2 = [] \n",
    "        table_3 = [] \n",
    "\n",
    "        t1 = PrettyTable(['9-11','12-2','2-4'])\n",
    "        t2 = PrettyTable(['9-11','12-2','2-4'])\n",
    "        t3 = PrettyTable(['9-11','12-2','2-4'])\n",
    "\n",
    "        for j in range(0, len(new_list)):\n",
    "            if (new_list[j][1]== 'a'):\n",
    "                table_1.append(new_list[j])\n",
    "            if (new_list[j][1]== 'b'):\n",
    "                table_2.append(new_list[j])\n",
    "            if (new_list[j][1]== 'c'):\n",
    "                table_3.append(new_list[j])\n",
    "\n",
    "        new_t_1 = [table_1[i:i+n] for i in range(0, len(table_1), n)]\n",
    "        new_t_2 = [table_2[i:i+n] for i in range(0, len(table_2), n)]\n",
    "        new_t_3 = [table_3[i:i+n] for i in range(0, len(table_3), n)]\n",
    "\n",
    "        t1.add_rows(new_t_1)\n",
    "        t2.add_rows(new_t_2)\n",
    "        t3.add_rows(new_t_3)\n",
    "\n",
    "\n",
    "        print(t1)\n",
    "        print(t2)\n",
    "        print(t3)\n",
    "        \n",
    "    @classmethod\n",
    "    def cal_conflict(self,gene):\n",
    "        '''\n",
    "        Count the number of conlict in the sequence\n",
    "        Ayam        \n",
    "        '''\n",
    "        # Initialize an empty list to store the chromosomes\n",
    "        chromosomes = []\n",
    "\n",
    "        # Count for conflicts\n",
    "        count = 0\n",
    "\n",
    "        # Define the combinations to check\n",
    "        # HAVE TO INTEGRATE WITH RUBY'S SAMPLE SPACE\n",
    "\n",
    "        combinations = [f\"{big}{small}\" for big in \"ABCDEF\" for small in \"abc\" if f\"{big}{small}\" not in [\"Ga\", \"Gb\", \"Gc\"]]\n",
    "\n",
    "        # Initialize the count the occurrences of each combination\n",
    "        combination_counts = {combo: 0 for combo in combinations}\n",
    "\n",
    "        # Iterate over the string in chunks of 9 characters and append them to the list\n",
    "        #  INTEGRATE WITH THE DECOMPOSITION FUNCTION \n",
    "\n",
    "        for i in range(0, len(gene), 9):\n",
    "            #Chromosome is of 9 character each element is one slot\n",
    "            chromosome = gene[i:i+9]\n",
    "            chromosomes.append(chromosome)\n",
    "            #to count occurance of Aa to Fc - not G as G is for break and can occur multiple times\n",
    "            for a in range(0,3):\n",
    "                combination = chromosome[0+3*a:2+3*a]\n",
    "                #print(combination) #check the combination saved if it matches gene and is 54 element long\n",
    "                if combination in combination_counts:\n",
    "                    combination_counts[combination] += 1\n",
    "\n",
    "        # Check if all Aa to Fc is of count 2 and update the conflict count for every Aa to Fc that isnt repeated twice\n",
    "        for combo, combo_count in combination_counts.items():\n",
    "            if combo_count != 2:\n",
    "                count += 1\n",
    "\n",
    "        for chromosome in chromosomes:\n",
    "            # Check if the chromosome contains 'a', 'b', and 'c' in any order\n",
    "            # All the student groups are accounted for\n",
    "            has_abc = all(char in chromosome for char in 'abc')\n",
    "            # Check if the chromosome contains '1', '2', and '3' in any order\n",
    "            # All the rooms are accounted for\n",
    "            has_123 = all(char in chromosome for char in '123')\n",
    "                # Increment the count for each valid chromosome\n",
    "            if not has_abc and not has_123:\n",
    "                count += 1\n",
    "        return count"
   ]
  },
  {
   "cell_type": "code",
   "execution_count": 11,
   "id": "5b5be8d2",
   "metadata": {},
   "outputs": [],
   "source": [
    "g1 = Gene()"
   ]
  },
  {
   "cell_type": "code",
   "execution_count": 12,
   "id": "39ba43c9",
   "metadata": {},
   "outputs": [
    {
     "data": {
      "text/plain": [
       "26"
      ]
     },
     "execution_count": 12,
     "metadata": {},
     "output_type": "execute_result"
    }
   ],
   "source": [
    "g1.count"
   ]
  },
  {
   "cell_type": "code",
   "execution_count": 14,
   "id": "2c256453",
   "metadata": {},
   "outputs": [
    {
     "name": "stdout",
     "output_type": "stream",
     "text": [
      "[['F' 'F' 'D' 'F' 'F' 'G' 'A' 'G' 'D' 'A' 'E' 'F' 'A' 'F' 'G' 'B' 'C' 'C'\n",
      "  'E' 'G' 'C' 'F' 'E' 'G' 'C' 'F' 'D' 'E' 'E' 'C' 'B' 'B' 'C' 'G' 'D' 'A'\n",
      "  'E' 'D' 'F' 'F' 'B' 'E' 'G' 'A' 'G' 'F' 'D' 'F' 'A' 'G' 'E' 'D' 'E' 'D']\n",
      " ['a' 'b' 'a' 'c' 'a' 'a' 'b' 'c' 'c' 'b' 'b' 'a' 'a' 'a' 'a' 'a' 'c' 'b'\n",
      "  'a' 'b' 'c' 'a' 'b' 'c' 'a' 'b' 'a' 'a' 'c' 'a' 'b' 'a' 'a' 'c' 'a' 'c'\n",
      "  'c' 'a' 'b' 'b' 'c' 'c' 'b' 'a' 'b' 'c' 'b' 'c' 'a' 'a' 'a' 'c' 'b' 'b']\n",
      " ['3' '1' '1' '3' '2' '3' '2' '3' '3' '3' '3' '2' '1' '2' '2' '1' '1' '2'\n",
      "  '2' '2' '3' '1' '3' '1' '3' '1' '3' '2' '1' '2' '3' '1' '3' '1' '3' '1'\n",
      "  '2' '1' '3' '3' '1' '1' '3' '3' '1' '2' '1' '3' '3' '2' '2' '3' '1' '3']]\n"
     ]
    }
   ],
   "source": [
    "print(g1.decomp)"
   ]
  },
  {
   "cell_type": "code",
   "execution_count": null,
   "id": "9acb2a25",
   "metadata": {},
   "outputs": [],
   "source": []
  }
 ],
 "metadata": {
  "kernelspec": {
   "display_name": "Python 3 (ipykernel)",
   "language": "python",
   "name": "python3"
  },
  "language_info": {
   "codemirror_mode": {
    "name": "ipython",
    "version": 3
   },
   "file_extension": ".py",
   "mimetype": "text/x-python",
   "name": "python",
   "nbconvert_exporter": "python",
   "pygments_lexer": "ipython3",
   "version": "3.8.10"
  }
 },
 "nbformat": 4,
 "nbformat_minor": 5
}
