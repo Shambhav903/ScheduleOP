{
 "cells": [
  {
   "cell_type": "code",
   "execution_count": 218,
   "id": "79ce794a-e94f-4d07-9a49-80ae907b1205",
   "metadata": {},
   "outputs": [],
   "source": [
    "import numpy as np\n",
    "# Define the input string\n",
    "gene=\"Ca1Fa3Da2Fb3Ea3Ga3Fc2Eb2Ba2Ea1Ea1Fc3Eb3Eb3Gb2Ba3Cb1Ea1Ab1Ac3Aa1Ea2Fa3Cb2Gb1Cb1Gb3Ec1Ba2Fa3Aa2Ab3Ac1Ba2Ba2Fc2Cb2Da3Ba1Cc3Bb1Fb1Da2Ac3Gb3Gb1Cb3Ba1Gc1Gb1Gb1Fb2Da1Gb2\""
   ]
  },
  {
   "cell_type": "code",
   "execution_count": 212,
   "id": "e10256c4-9a1f-419a-969c-a015b1617734",
   "metadata": {},
   "outputs": [],
   "source": [
    "#arr = np.ndarray((0, 54))\n",
    "arr = np.empty((3,54), str)"
   ]
  },
  {
   "cell_type": "code",
   "execution_count": 213,
   "id": "15c2e692-a95a-4cc9-9f14-0acaa40edf80",
   "metadata": {},
   "outputs": [],
   "source": [
    "for i in range(0, len(gene),3):\n",
    "    for j in range(0,3):\n",
    "     arr[j][i//3] = gene[i+j]"
   ]
  },
  {
   "cell_type": "code",
   "execution_count": 214,
   "id": "9aadbade-892a-4108-84b2-aba1618c1366",
   "metadata": {},
   "outputs": [
    {
     "data": {
      "text/plain": [
       "array([['C', 'F', 'D', 'F', 'E', 'G', 'F', 'E', 'B', 'E', 'E', 'F', 'E',\n",
       "        'E', 'G', 'B', 'C', 'E', 'A', 'A', 'A', 'E', 'F', 'C', 'G', 'C',\n",
       "        'G', 'E', 'B', 'F', 'A', 'A', 'A', 'B', 'B', 'F', 'C', 'D', 'B',\n",
       "        'C', 'B', 'F', 'D', 'A', 'G', 'G', 'C', 'B', 'G', 'G', 'G', 'F',\n",
       "        'D', 'G'],\n",
       "       ['a', 'a', 'a', 'b', 'a', 'a', 'c', 'b', 'a', 'a', 'a', 'c', 'b',\n",
       "        'b', 'b', 'a', 'b', 'a', 'b', 'c', 'a', 'a', 'a', 'b', 'b', 'b',\n",
       "        'b', 'c', 'a', 'a', 'a', 'b', 'c', 'a', 'a', 'c', 'b', 'a', 'a',\n",
       "        'c', 'b', 'b', 'a', 'c', 'b', 'b', 'b', 'a', 'c', 'b', 'b', 'b',\n",
       "        'a', 'b'],\n",
       "       ['1', '3', '2', '3', '3', '3', '2', '2', '2', '1', '1', '3', '3',\n",
       "        '3', '2', '3', '1', '1', '1', '3', '1', '2', '3', '2', '1', '1',\n",
       "        '3', '1', '2', '3', '2', '3', '1', '2', '2', '2', '2', '3', '1',\n",
       "        '3', '1', '1', '2', '3', '3', '1', '3', '1', '1', '1', '1', '2',\n",
       "        '1', '2']], dtype='<U1')"
      ]
     },
     "execution_count": 214,
     "metadata": {},
     "output_type": "execute_result"
    }
   ],
   "source": [
    "arr"
   ]
  }
 ],
 "metadata": {
  "kernelspec": {
   "display_name": "Python 3 (ipykernel)",
   "language": "python",
   "name": "python3"
  },
  "language_info": {
   "codemirror_mode": {
    "name": "ipython",
    "version": 3
   },
   "file_extension": ".py",
   "mimetype": "text/x-python",
   "name": "python",
   "nbconvert_exporter": "python",
   "pygments_lexer": "ipython3",
   "version": "3.9.18"
  }
 },
 "nbformat": 4,
 "nbformat_minor": 5
}
