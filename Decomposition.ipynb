{
 "cells": [
  {
   "cell_type": "code",
   "execution_count": 5,
   "id": "79ce794a-e94f-4d07-9a49-80ae907b1205",
   "metadata": {},
   "outputs": [
    {
     "name": "stdout",
     "output_type": "stream",
     "text": [
      "Course: ['A', 'B', 'C', 'D', 'E', 'F', 'G', 'A', 'B', 'C', 'D', 'E', 'F', 'G', 'A', 'B', 'C', 'D', 'E', 'F', 'G', 'A', 'B', 'C', 'D', 'E', 'F', 'G', 'A', 'B', 'C', 'D', 'E', 'F', 'G', 'A', 'B', 'B', 'C']\n",
      "Student Group: ['a', 'b', 'c', 'a', 'b', 'c', 'a', 'a', 'b', 'a', 'b', 'c', 'a', 'a', 'b', 'a', 'b', 'c', 'a', 'a', 'a', 'a', 'a', 'b', 'a', 'a', 'a', 'a', 'b', 'b', 'c', 'c', 'a', 'a', 'a', 'a', 'a', 'b', 'b']\n",
      "Classroom: ['1', '2', '3', '1', '2', '3', '1', '2', '3', '1', '2', '3', '1', '2', '3', '1', '2', '3', '1', '2', '3', '1', '2', '3', '1', '2', '3', '1', '2', '3', '1', '2', '3', '1', '2', '3', '1', '2', '3']\n"
     ]
    }
   ],
   "source": [
    "# Define the input string\n",
    "gene = \"Aa1Bb2Cc3Da1Eb2Fc3Ga1Aa2Bb3Ca1Db2Ec3Fa1Ga2Ab3Ba1Cb2Dc3Ea1Fa2Ga3Aa1Ba2Cb3Da1Ea2Fa3Ga1Ab2Bb3Cc1Dc2Ea3Fa1Ga2Aa3Ba1Bb2Cb3\"\n",
    "\n",
    "# Initialize three empty arrays to store the decomposed elements\n",
    "array1 = []\n",
    "array2 = []\n",
    "array3 = []\n",
    "\n",
    "# Calculate the length of the gene string and divide it by 3 to determine the number of iterations\n",
    "num_iterations = int(len(gene) / 3)\n",
    "\n",
    "# Loop through the string in increments of 3 characters\n",
    "for i in range(num_iterations):\n",
    "    # Calculate the positions for each array\n",
    "    position1 = i * 3\n",
    "    position2 = i * 3 + 1\n",
    "    position3 = i * 3 + 2\n",
    "    \n",
    "    # Append the elements at the calculated positions to their respective arrays\n",
    "    array1.append(gene[position1])\n",
    "    array2.append(gene[position2])\n",
    "    array3.append(gene[position3])\n",
    "\n",
    "# Print the three arrays\n",
    "print(\"Course:\", array1)\n",
    "print(\"Student Group:\", array2)\n",
    "print(\"Classroom:\", array3)\n",
    "\n",
    "#2d array"
   ]
  },
  {
   "cell_type": "code",
   "execution_count": null,
   "id": "504f34bc-1464-47ec-8123-80b57694d589",
   "metadata": {},
   "outputs": [],
   "source": [
    "gene = \"Aa1Bb2Cc3Da1Eb2Fc3Ga1Aa2Bb3Ca1Db2Ec3Fa1Ga2Ab3Ba1Cb2Dc3Ea1Fa2Ga3Aa1Ba2Cb3Da1Ea2Fa3Ga1Ab2Bb3Cc1Dc2Ea3Fa1Ga2Aa3Ba1Bb2Cb3\"\n",
    "\n",
    "array1 = []\n",
    "array2 = []\n",
    "array3 = []\n",
    "\n",
    "iteration_count = len(gene)/3\n",
    "\n",
    "for i in range(0, len(gene)):\n",
    "    switch gene[i]:\n",
    "        case A-Z:\n",
    "    "
   ]
  }
 ],
 "metadata": {
  "kernelspec": {
   "display_name": "Python 3 (ipykernel)",
   "language": "python",
   "name": "python3"
  },
  "language_info": {
   "codemirror_mode": {
    "name": "ipython",
    "version": 3
   },
   "file_extension": ".py",
   "mimetype": "text/x-python",
   "name": "python",
   "nbconvert_exporter": "python",
   "pygments_lexer": "ipython3",
   "version": "3.9.18"
  }
 },
 "nbformat": 4,
 "nbformat_minor": 5
}
