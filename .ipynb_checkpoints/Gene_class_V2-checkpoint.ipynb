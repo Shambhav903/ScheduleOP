{
 "cells": [
  {
   "cell_type": "code",
   "execution_count": 27,
   "id": "64542b46",
   "metadata": {},
   "outputs": [],
   "source": [
    "import random\n",
    "import numpy as np\n",
    "from prettytable import PrettyTable"
   ]
  },
  {
   "cell_type": "code",
   "execution_count": 28,
   "id": "2249c0f2",
   "metadata": {},
   "outputs": [],
   "source": [
    "subject = ['A', 'B', 'C', 'D', 'E', 'F', 'G']\n",
    "batch = ['a', 'b', 'c']\n",
    "room = ['1','2','3']"
   ]
  },
  {
   "cell_type": "code",
   "execution_count": 29,
   "id": "b27e379b",
   "metadata": {},
   "outputs": [],
   "source": [
    "CHROMOSOMES = [N + n + l for N in subject for n in batch for l in room]"
   ]
  },
  {
   "cell_type": "code",
   "execution_count": 30,
   "id": "b0824d90",
   "metadata": {},
   "outputs": [],
   "source": [
    "def mutate():\n",
    "    global CHROMOSOMES\n",
    "    mutated_chromosome = random.choice(CHROMOSOMES)\n",
    "    return mutated_chromosome"
   ]
  },
  {
   "cell_type": "code",
   "execution_count": 31,
   "id": "72d05264",
   "metadata": {},
   "outputs": [],
   "source": [
    "class Gene(object):   \n",
    "    \n",
    "    def __init__(self, gene='',count=0, decomp =[]):\n",
    "        self.gene = self.create_gene()\n",
    "        print(self.gene)\n",
    "        self.count = self.cal_conflict(self.gene)\n",
    "        self.decomp = self.decompose(self.gene)\n",
    "\n",
    "    @classmethod\n",
    "    def create_gene(self):\n",
    "        global CHROMOSOMES\n",
    "        a = ''\n",
    "        for i in range (0,54) : \n",
    "            random_num = random.choice(CHROMOSOMES)\n",
    "            a = a + str(random_num)\n",
    "        return a\n",
    "    \n",
    "    @classmethod\n",
    "    def decompose(self,gene):\n",
    "        array1 = []\n",
    "        array2 = []\n",
    "        array3 = []\n",
    "\n",
    "        num_iterations = int(len(gene) / 3)\n",
    "\n",
    "        for i in range(num_iterations):\n",
    "            position1 = i * 3\n",
    "            position2 = i * 3 + 1\n",
    "            position3 = i * 3 + 2\n",
    "\n",
    "            array1.append(gene[position1])\n",
    "            array2.append(gene[position2])\n",
    "            array3.append(gene[position3])\n",
    "\n",
    "        combined_a= np.vstack((array1,array2,array3))\n",
    "        return combined_a\n",
    "\n",
    "    @classmethod\n",
    "    def display(self,gene):\n",
    "        n = 3\n",
    "        new_list = [gene[i:i+n] for i in range(0, len(gene), n)]\n",
    "\n",
    "        table_1 = [] \n",
    "        table_2 = [] \n",
    "        table_3 = [] \n",
    "\n",
    "        t1 = PrettyTable(['9-11','12-2','2-4'])\n",
    "        t2 = PrettyTable(['9-11','12-2','2-4'])\n",
    "        t3 = PrettyTable(['9-11','12-2','2-4'])\n",
    "\n",
    "        for j in range(0, len(new_list)):\n",
    "            if (new_list[j][1]== 'a'):\n",
    "                table_1.append(new_list[j])\n",
    "            if (new_list[j][1]== 'b'):\n",
    "                table_2.append(new_list[j])\n",
    "            if (new_list[j][1]== 'c'):\n",
    "                table_3.append(new_list[j])\n",
    "\n",
    "        new_t_1 = [table_1[i:i+n] for i in range(0, len(table_1), n)]\n",
    "        new_t_2 = [table_2[i:i+n] for i in range(0, len(table_2), n)]\n",
    "        new_t_3 = [table_3[i:i+n] for i in range(0, len(table_3), n)]\n",
    "\n",
    "        t1.add_rows(new_t_1)\n",
    "        t2.add_rows(new_t_2)\n",
    "        t3.add_rows(new_t_3)\n",
    "\n",
    "        print(t1)\n",
    "        print(t2)\n",
    "        print(t3)\n",
    "\n",
    "    @classmethod\n",
    "    def cal_conflict(self,gene):\n",
    "\n",
    "        chromosomes = []\n",
    "        count = 0\n",
    "\n",
    "        combinations = [f\"{big}{small}\" for big in \"ABCDEF\" for small in \"abc\" if f\"{big}{small}\" not in [\"Ga\", \"Gb\", \"Gc\"]]\n",
    "        combination_counts = {combo: 0 for combo in combinations}\n",
    "\n",
    "        for i in range(0, len(gene), 9):\n",
    "            chromosome = gene[i:i+9]\n",
    "            chromosomes.append(chromosome)\n",
    "\n",
    "            for a in range(0,3):\n",
    "                combination = chromosome[0+3*a:2+3*a]\n",
    "            \n",
    "                if combination in combination_counts:\n",
    "                    combination_counts[combination] += 1\n",
    "\n",
    "        for combo, combo_count in combination_counts.items():\n",
    "            if combo_count != 2:\n",
    "                count += 1\n",
    "\n",
    "        for chromosome in chromosomes:\n",
    "            has_abc = all(char in chromosome for char in 'abc')\n",
    "            has_123 = all(char in chromosome for char in '123')\n",
    "\n",
    "            if not has_abc and not has_123:\n",
    "                count += 1\n",
    "        return count"
   ]
  },
  {
   "cell_type": "code",
   "execution_count": 32,
   "id": "5b5be8d2",
   "metadata": {},
   "outputs": [
    {
     "name": "stdout",
     "output_type": "stream",
     "text": [
      "Dc3Ea3Ec2Bb1Fc3Fa3Gc1Gc2Fc2Eb3Ec1Fc2Fb3Ac2Fb3Fa1Ga2Aa1Ea3Eb2Fb3Bc2Bb1Ac3Da2Fb2Ca2Ca3Eb1Aa2Dc2Gc1Eb2Bc3Ec2Fc1Bb3Fb2Db2Ga3Cc2Ea3Fb1Ea1Cb3Cb3Ca1Db1Dc2Aa1Ac1Ec1Dc1Gb1\n"
     ]
    }
   ],
   "source": [
    "g1 = Gene()"
   ]
  },
  {
   "cell_type": "code",
   "execution_count": 33,
   "id": "39ba43c9",
   "metadata": {},
   "outputs": [
    {
     "data": {
      "text/plain": [
       "27"
      ]
     },
     "execution_count": 33,
     "metadata": {},
     "output_type": "execute_result"
    }
   ],
   "source": [
    "g1.count"
   ]
  },
  {
   "cell_type": "code",
   "execution_count": 34,
   "id": "2c256453",
   "metadata": {},
   "outputs": [
    {
     "name": "stdout",
     "output_type": "stream",
     "text": [
      "[['D' 'E' 'E' 'B' 'F' 'F' 'G' 'G' 'F' 'E' 'E' 'F' 'F' 'A' 'F' 'F' 'G' 'A'\n",
      "  'E' 'E' 'F' 'B' 'B' 'A' 'D' 'F' 'C' 'C' 'E' 'A' 'D' 'G' 'E' 'B' 'E' 'F'\n",
      "  'B' 'F' 'D' 'G' 'C' 'E' 'F' 'E' 'C' 'C' 'C' 'D' 'D' 'A' 'A' 'E' 'D' 'G']\n",
      " ['c' 'a' 'c' 'b' 'c' 'a' 'c' 'c' 'c' 'b' 'c' 'c' 'b' 'c' 'b' 'a' 'a' 'a'\n",
      "  'a' 'b' 'b' 'c' 'b' 'c' 'a' 'b' 'a' 'a' 'b' 'a' 'c' 'c' 'b' 'c' 'c' 'c'\n",
      "  'b' 'b' 'b' 'a' 'c' 'a' 'b' 'a' 'b' 'b' 'a' 'b' 'c' 'a' 'c' 'c' 'c' 'b']\n",
      " ['3' '3' '2' '1' '3' '3' '1' '2' '2' '3' '1' '2' '3' '2' '3' '1' '2' '1'\n",
      "  '3' '2' '3' '2' '1' '3' '2' '2' '2' '3' '1' '2' '2' '1' '2' '3' '2' '1'\n",
      "  '3' '2' '2' '3' '2' '3' '1' '1' '3' '3' '1' '1' '2' '1' '1' '1' '1' '1']]\n"
     ]
    }
   ],
   "source": [
    "print(g1.decomp)"
   ]
  },
  {
   "cell_type": "code",
   "execution_count": 35,
   "id": "afb4ea58",
   "metadata": {
    "scrolled": false
   },
   "outputs": [
    {
     "name": "stdout",
     "output_type": "stream",
     "text": [
      "+------+------+-----+\n",
      "| 9-11 | 12-2 | 2-4 |\n",
      "+------+------+-----+\n",
      "| Ea3  | Fa3  | Fa1 |\n",
      "| Ga2  | Aa1  | Ea3 |\n",
      "| Da2  | Ca2  | Ca3 |\n",
      "| Aa2  | Ga3  | Ea3 |\n",
      "| Ea1  | Ca1  | Aa1 |\n",
      "+------+------+-----+\n",
      "+------+------+-----+\n",
      "| 9-11 | 12-2 | 2-4 |\n",
      "+------+------+-----+\n",
      "| Bb1  | Eb3  | Fb3 |\n",
      "| Fb3  | Eb2  | Fb3 |\n",
      "| Bb1  | Fb2  | Eb1 |\n",
      "| Eb2  | Bb3  | Fb2 |\n",
      "| Db2  | Fb1  | Cb3 |\n",
      "| Cb3  | Db1  | Gb1 |\n",
      "+------+------+-----+\n",
      "+------+------+-----+\n",
      "| 9-11 | 12-2 | 2-4 |\n",
      "+------+------+-----+\n",
      "| Dc3  | Ec2  | Fc3 |\n",
      "| Gc1  | Gc2  | Fc2 |\n",
      "| Ec1  | Fc2  | Ac2 |\n",
      "| Bc2  | Ac3  | Dc2 |\n",
      "| Gc1  | Bc3  | Ec2 |\n",
      "| Fc1  | Cc2  | Dc2 |\n",
      "| Ac1  | Ec1  | Dc1 |\n",
      "+------+------+-----+\n"
     ]
    }
   ],
   "source": [
    "g1.display(g1.gene)"
   ]
  },
  {
   "cell_type": "code",
   "execution_count": 36,
   "id": "9acb2a25",
   "metadata": {},
   "outputs": [
    {
     "data": {
      "text/plain": [
       "'Ac1'"
      ]
     },
     "execution_count": 36,
     "metadata": {},
     "output_type": "execute_result"
    }
   ],
   "source": [
    "mutate()"
   ]
  },
  {
   "cell_type": "code",
   "execution_count": 37,
   "id": "bc1f7a7c",
   "metadata": {},
   "outputs": [
    {
     "name": "stdout",
     "output_type": "stream",
     "text": [
      "Generated Gene:\n",
      "Batch a:\n",
      "+------+------+-----+\n",
      "| 9-11 | 12-2 | 2-4 |\n",
      "+------+------+-----+\n",
      "|  D   |  a   |  3  |\n",
      "|  G   |  a   |  3  |\n",
      "|  E   |  a   |  3  |\n",
      "|  A   |  a   |  3  |\n",
      "|  C   |  a   |  1  |\n",
      "|  F   |  a   |  2  |\n",
      "|  G   |  a   |  3  |\n",
      "|  D   |  a   |  3  |\n",
      "+------+------+-----+\n",
      "Batch b:\n",
      "+------+------+-----+\n",
      "| 9-11 | 12-2 | 2-4 |\n",
      "+------+------+-----+\n",
      "|  E   |  b   |  3  |\n",
      "|  G   |  b   |  2  |\n",
      "|  D   |  b   |  2  |\n",
      "|  B   |  b   |  3  |\n",
      "|  C   |  b   |  3  |\n",
      "+------+------+-----+\n",
      "Batch c:\n",
      "+------+------+-----+\n",
      "| 9-11 | 12-2 | 2-4 |\n",
      "+------+------+-----+\n",
      "|  F   |  c   |  3  |\n",
      "|  B   |  c   |  3  |\n",
      "|  C   |  c   |  2  |\n",
      "|  B   |  c   |  2  |\n",
      "|  F   |  c   |  3  |\n",
      "+------+------+-----+\n",
      "Conflict Count: 15\n"
     ]
    }
   ],
   "source": [
    "import random\n",
    "import numpy as np\n",
    "from prettytable import PrettyTable\n",
    "\n",
    "class Gene(object):\n",
    "\n",
    "    def __init__(self):\n",
    "        self.gene = self.create_gene()\n",
    "        self.decomp = self.decompose(self.gene)\n",
    "        self.count = self.cal_conflict(self.decomp)\n",
    "\n",
    "    @staticmethod\n",
    "    def create_gene():\n",
    "        subject = ['A', 'B', 'C', 'D', 'E', 'F', 'G']\n",
    "        batch = ['a', 'b', 'c']\n",
    "        room = ['1', '2', '3']\n",
    "        CHROMOSOMES = [N + n + l for N in subject for n in batch for l in room]\n",
    "\n",
    "        valid_gene = []\n",
    "        for _ in range(18):  # Generate 18 random chromosome combinations\n",
    "            chromosome = random.choice(CHROMOSOMES)\n",
    "            valid_gene.append(chromosome)\n",
    "\n",
    "        return ''.join(valid_gene)\n",
    "\n",
    "    @staticmethod\n",
    "    def decompose(gene):\n",
    "        num_iterations = len(gene) // 3\n",
    "        decomposed = np.array([list(gene[i:i+3]) for i in range(0, len(gene), 3)])\n",
    "        return decomposed\n",
    "\n",
    "    @staticmethod\n",
    "    def display(gene):\n",
    "        n = 3\n",
    "        new_list = [gene[i:i+n] for i in range(0, len(gene), n)]\n",
    "\n",
    "        tables = {batch: PrettyTable(['9-11', '12-2', '2-4']) for batch in 'abc'}\n",
    "\n",
    "        for j in range(len(new_list)):\n",
    "            batch = new_list[j][1]\n",
    "            tables[batch].add_row(new_list[j])\n",
    "\n",
    "        for batch, table in tables.items():\n",
    "            print(f\"Batch {batch}:\")\n",
    "            print(table)\n",
    "\n",
    "    @staticmethod\n",
    "    def cal_conflict(decomp):\n",
    "        count = 0\n",
    "        combination_counts = {combo: 0 for combo in [\"AB\", \"AC\", \"AD\", \"AE\", \"AF\", \"Ba\", \"Bc\", \"Ca\", \"Cb\", \"Da\", \"Db\", \"Ea\", \"Eb\", \"Fa\", \"Fb\"]}\n",
    "        \n",
    "        for row in decomp:\n",
    "            for combo in row:\n",
    "                if combo in combination_counts:\n",
    "                    combination_counts[combo] += 1\n",
    "\n",
    "        for combo_count in combination_counts.values():\n",
    "            if combo_count != 2:\n",
    "                count += 1\n",
    "\n",
    "        return count\n",
    "\n",
    "    def display_gene(self):\n",
    "        self.display(self.gene)\n",
    "\n",
    "    def mutate(self):\n",
    "        mutated_chromosome = random.choice(self.gene)\n",
    "        return mutated_chromosome\n",
    "\n",
    "\n",
    "if __name__ == \"__main__\":\n",
    "    gene = Gene()\n",
    "    print(\"Generated Gene:\")\n",
    "    gene.display_gene()\n",
    "    print(\"Conflict Count:\", gene.count)\n"
   ]
  },
  {
   "cell_type": "code",
   "execution_count": null,
   "id": "db198da7",
   "metadata": {},
   "outputs": [],
   "source": []
  }
 ],
 "metadata": {
  "kernelspec": {
   "display_name": "Python 3 (ipykernel)",
   "language": "python",
   "name": "python3"
  },
  "language_info": {
   "codemirror_mode": {
    "name": "ipython",
    "version": 3
   },
   "file_extension": ".py",
   "mimetype": "text/x-python",
   "name": "python",
   "nbconvert_exporter": "python",
   "pygments_lexer": "ipython3",
   "version": "3.8.10"
  }
 },
 "nbformat": 4,
 "nbformat_minor": 5
}
