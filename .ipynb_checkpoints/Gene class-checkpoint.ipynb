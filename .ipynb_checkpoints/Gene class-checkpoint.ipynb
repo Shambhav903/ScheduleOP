{
 "cells": [
  {
   "cell_type": "code",
   "execution_count": null,
   "id": "64542b46",
   "metadata": {},
   "outputs": [],
   "source": [
    "import random\n"
   ]
  },
  {
   "cell_type": "code",
   "execution_count": null,
   "id": "2249c0f2",
   "metadata": {},
   "outputs": [],
   "source": [
    "'''\n",
    "valid gene\n",
    "({A-G}{a-c}{1-3})\n",
    "'''"
   ]
  },
  {
   "cell_type": "code",
   "execution_count": null,
   "id": "72d05264",
   "metadata": {},
   "outputs": [],
   "source": [
    "class Gene(object):\n",
    "    '''\n",
    "    Class representing individual in population\n",
    "    '''\n",
    "    def __init__(self, chromosome):\n",
    "        self.chromosome = chromosome\n",
    "        self.score = self.conflict()\n",
    "\n",
    "    @classmethod\n",
    "    def mutated(self):\n",
    "        '''\n",
    "        create random genes for mutation \n",
    "        Ruby\n",
    "        '''\n",
    "        global GENES\n",
    "        gene = random.choice(GENES)\n",
    "        return gene\n",
    "\n",
    "    @classmethod\n",
    "    def create_gene(self):\n",
    "        '''\n",
    "        create chromosome or string of genes\n",
    "        Ruby\n",
    "        '''\n",
    "    @classmethod\n",
    "    def decompose(self):\n",
    "        '''\n",
    "        Decompose the gene into array\n",
    "        Ankur\n",
    "        '''\n",
    "    @classmethod\n",
    "    def display(self):\n",
    "        '''\n",
    "        Convert the gene code to a user understandable table\n",
    "        Shambhav\n",
    "        '''\n",
    "    @classmethod\n",
    "    def cal_conflict(self):\n",
    "        '''\n",
    "        Count the number of conlict in the sequence\n",
    "        Ayam        \n",
    "        '''\n"
   ]
  },
  {
   "cell_type": "code",
   "execution_count": null,
   "id": "5b5be8d2",
   "metadata": {},
   "outputs": [],
   "source": []
  }
 ],
 "metadata": {
  "kernelspec": {
   "display_name": "Python 3 (ipykernel)",
   "language": "python",
   "name": "python3"
  },
  "language_info": {
   "codemirror_mode": {
    "name": "ipython",
    "version": 3
   },
   "file_extension": ".py",
   "mimetype": "text/x-python",
   "name": "python",
   "nbconvert_exporter": "python",
   "pygments_lexer": "ipython3",
   "version": "3.8.10"
  }
 },
 "nbformat": 4,
 "nbformat_minor": 5
}
