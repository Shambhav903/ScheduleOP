{
 "cells": [
  {
   "cell_type": "markdown",
   "metadata": {},
   "source": [
    "# rough\n",
    "atom = part of gene ex: 'Aa2'\n",
    "\n",
    "## legitimacy of gene\n",
    "one student group must have at most 18 classes per week\n",
    "\n",
    "Only one occurance for one subject A-G only once per day\n",
    "\n",
    "Same classroom cannot have two student groups at once\n",
    "\n",
    "Once subject only twice per week\n",
    "\n",
    "## Conflict score\n"
   ]
  },
  {
   "cell_type": "markdown",
   "metadata": {},
   "source": [
    "1. legitimacy check"
   ]
  },
  {
   "cell_type": "code",
   "execution_count": 12,
   "metadata": {},
   "outputs": [
    {
     "name": "stdout",
     "output_type": "stream",
     "text": [
      "error in numbers of atoms in schedule 1\n",
      "error in numbers of atoms in schedule 2\n",
      "error in numbers of atoms in schedule 3\n"
     ]
    }
   ],
   "source": [
    "# random is a gene sequence\n",
    "# random = \"Aa1Bb2Cc3Da1Eb2Fc3Ga1Aa2Bb3Ca1Db2Ec3Fa1Ga2Ab3Ba1Cb2Dc3Ea1Fa2Ga3Aa1Ba2Cb3Da1Ea2Fa3Ga1Ab2Bb3Cc1Dc2Ea3Fa1Ga2Aa3Ba1Bb2Cb3Da1Ec2Fa3Ga1Ab2Bb3Cc1Dc2Ea3Fa1Ga2Aa3Ba1Bb2Cb3\"\n",
    "random = \"Aa1Bb2Cc3Aa1Eb2Fc3Ga1Aa2Bb3Ca1Db2Ec3Fa1Ga2Ab3Ba1Cb2Dc3Ea1Fa2Ga3Aa1Ba2Cb3Da1Ea2Fa3Ga1Ab2Bb3Cc1Dc2Ea3Fa1Ga2Aa3Ba1Bb2Cb3Da1Ec2Fa3Ga1Ab2Bb3Cc1Dc2Ea3Fa1Ga2Aa3Ba1Bb2Cb3\"\n",
    "n = 3\n",
    "\n",
    "# creates list of all atoms\n",
    "new_list = [random[i:i+n] for i in range(0, len(random), n)]\n",
    "\n",
    "# # creates 3 empty tables \n",
    "# table_1 = [] \n",
    "# table_2 = [] \n",
    "# table_3 = []\n",
    "\n",
    "# count the number of elements in the table\n",
    "count_table_1 = 0\n",
    "count_table_2 = 0 \n",
    "count_table_3 = 0\n",
    "\n",
    "# counts the number of elements in each table\n",
    "for j in range(0, len(new_list)):\n",
    "    if (new_list[j][1]== 'a'):\n",
    "        count_table_1 += 1\n",
    "    if (new_list[j][1]== 'b'):\n",
    "        count_table_2 += 1\n",
    "    if (new_list[j][1]== 'c'):\n",
    "        count_table_3 += 1\n",
    "\n",
    "if count_table_1 != 18:\n",
    "    print('error in numbers of atoms in schedule 1')\n",
    "if count_table_2 != 18:\n",
    "    print('error in numbers of atoms in schedule 2')\n",
    "if count_table_3 != 18:\n",
    "    print('error in numbers of atoms in schedule 3')\n"
   ]
  },
  {
   "cell_type": "markdown",
   "metadata": {},
   "source": [
    "2. Only one occurance for one subject A-G only once per day\n"
   ]
  },
  {
   "cell_type": "code",
   "execution_count": 25,
   "metadata": {},
   "outputs": [
    {
     "name": "stdout",
     "output_type": "stream",
     "text": [
      "['Aa1', 'Da1', 'Ga1', 'Aa2', 'Ca1', 'Fa1', 'Ga2', 'Ba1', 'Ea1', 'Fa2', 'Ga3', 'Aa1', 'Ba2', 'Da1', 'Ea2', 'Fa3', 'Ga1', 'Ea3', 'Fa1', 'Ga2', 'Aa3', 'Ba1', 'Da1', 'Fa3', 'Ga1', 'Ea3', 'Fa1', 'Ga2', 'Aa3', 'Ba1']\n",
      "['Bb2', 'Eb2', 'Bb3', 'Db2', 'Ab3', 'Cb2', 'Cb3', 'Ab2', 'Bb3', 'Bb2', 'Cb3', 'Ab2', 'Bb3', 'Bb2', 'Cb3']\n",
      "['Cc3', 'Fc3', 'Ec3', 'Dc3', 'Cc1', 'Dc2', 'Ec2', 'Cc1', 'Dc2']\n",
      "this is error what say\n",
      "this is error what say\n",
      "this is error what say\n",
      "no of error =  3\n"
     ]
    }
   ],
   "source": [
    "new_list = [random[i:i+n] for i in range(0, len(random), n)]\n",
    "\n",
    "combinations = [f\"{big}\" for big in \"ABCDEF\" ]\n",
    "\n",
    "# Initialize the count the occurrences of each combination\n",
    "subject_count = {combo: 0 for combo in combinations}\n",
    "\n",
    "# # creates 3 empty tables \n",
    "table_1 = [] \n",
    "table_2 = [] \n",
    "table_3 = []\n",
    "\n",
    "error_count = 0\n",
    "\n",
    "# tables \n",
    "for j in range(0, len(new_list)):\n",
    "    if (new_list[j][1]== 'a'):\n",
    "        table_1.append(new_list[j])\n",
    "    if (new_list[j][1]== 'b'):\n",
    "        table_2.append(new_list[j])\n",
    "    if (new_list[j][1]== 'c'):\n",
    "        table_3.append(new_list[j])\n",
    "\n",
    "for j in range(0, len(table_1),3):\n",
    "    for i in range(j,j+3):\n",
    "        if (table_1[i][0] in combinations):\n",
    "            subject_count[table_1[i][0]] += 1\n",
    "\n",
    "    for combo, combo_count in subject_count.items():\n",
    "        if combo_count > 1:\n",
    "            error_count += 1\n",
    "            print('this is error what say')\n",
    "    subject_count = {combo: 0 for combo in combinations}\n",
    "\n",
    "for j in range(0, len(table_2),3):\n",
    "    for i in range(j,j+3):\n",
    "        if (table_2[1][0] in combinations):\n",
    "            subject_count[table_2[i][0]] += 1\n",
    "\n",
    "    for combo, combo_count in subject_count.items():\n",
    "        if combo_count > 1:\n",
    "            error_count += 1\n",
    "            print('this is error what say')\n",
    "    subject_count = {combo: 0 for combo in combinations}\n",
    "\n",
    "for j in range(0, len(table_3),3):\n",
    "    for i in range(j,j+3):\n",
    "        if (table_3[j][0] in combinations):\n",
    "            subject_count[table_3[i][0]] += 1\n",
    "\n",
    "    for combo, combo_count in subject_count.items():\n",
    "        if combo_count > 1:\n",
    "            error_count += 1\n",
    "            print('this is error what say')\n",
    "    subject_count = {combo: 0 for combo in combinations}\n",
    "\n",
    "print('no of error = ', error_count)"
   ]
  },
  {
   "cell_type": "markdown",
   "metadata": {},
   "source": [
    "\n",
    "3. Same classroom cannot have two student groups at once\n",
    "4. Once subject only twice per week"
   ]
  },
  {
   "cell_type": "code",
   "execution_count": 14,
   "metadata": {},
   "outputs": [
    {
     "name": "stdout",
     "output_type": "stream",
     "text": [
      "Conflict Count: 31\n"
     ]
    }
   ],
   "source": [
    "random = \"Aa1Bb2Cc3Da1Eb2Fc3Ga1Aa2Bb3Ca1Db2Ec3Fa1Ga2Ab3Ba1Cb2Dc3Ea1Fa2Ga3Aa1Ba2Cb3Da1Ea2Fa3Ga1Ab2Bb3Cc1Dc2Ea3Fa1Ga2Aa3Ba1Bb2Cb3Da1Ec2Fa3Ga1Ab2Bb3Cc1Dc2Ea3Fa1Ga2Aa3Ba1Bb2Cb3\"\n",
    "\n",
    "# Generate a random gene\n",
    "gene = random\n",
    "\n",
    "# Initialize an empty list to store the chromosomes\n",
    "chromosomes = []\n",
    "\n",
    "# Count for conflicts\n",
    "count = 0\n",
    "\n",
    "# Define the combinations to check\n",
    "# HAVE TO INTEGRATE WITH RUBY'S SAMPLE SPACE\n",
    "\n",
    "combinations = [f\"{big}{small}\" for big in \"ABCDEF\" for small in \"abc\" if f\"{big}{small}\" not in [\"Ga\", \"Gb\", \"Gc\"]]\n",
    "\n",
    "# Initialize the count the occurrences of each combination\n",
    "combination_counts = {combo: 0 for combo in combinations}\n",
    "\n",
    "# Iterate over the string in chunks of 9 characters and append them to the list\n",
    "#  INTEGRATE WITH THE DECOMPOSITION FUNCTION \n",
    "\n",
    "for i in range(0, len(gene), 9):\n",
    "    #Chromosome is of 9 character each element is one slot\n",
    "    chromosome = gene[i:i+9]\n",
    "    chromosomes.append(chromosome)\n",
    "    #to count occurance of Aa to Fc - not G as G is for break and can occur multiple times\n",
    "    for a in range(0,3):\n",
    "        combination = chromosome[0+3*a:2+3*a]\n",
    "        #print(combination) #check the combination saved if it matches gene and is 54 element long\n",
    "        if combination in combination_counts:\n",
    "            combination_counts[combination] += 1\n",
    "\n",
    "# Check if all Aa to Fc is of count 2 and update the conflict count for every Aa to Fc that isnt repeated twice\n",
    "for combo, combo_count in combination_counts.items():\n",
    "    if combo_count != 2:\n",
    "        count += 1\n",
    "\n",
    "# Define a function to check if a chromosome meets the specified conditions\n",
    "def is_valid_chromosome(chromosome):\n",
    "    # Check if the chromosome contains 'a', 'b', and 'c' in any order\n",
    "    # All the student groups are accounted for\n",
    "    has_abc = all(char in chromosome for char in 'abc')\n",
    "    # Check if the chromosome contains '1', '2', and '3' in any order\n",
    "    # All the rooms are accounted for\n",
    "    has_123 = all(char in chromosome for char in '123')\n",
    "    return has_abc and has_123\n",
    "\n",
    "# Increment the count for each valid chromosome\n",
    "for chromosome in chromosomes:\n",
    "    if not is_valid_chromosome(chromosome):\n",
    "        count += 1\n",
    "\n",
    "# Now, 'chromosomes' is an array with 18 elements, each representing a chromosome\n",
    "# print(\"Chromosomes:\", chromosomes)\n",
    "print(\"Conflict Count:\", count)\n"
   ]
  },
  {
   "cell_type": "code",
   "execution_count": 3,
   "metadata": {},
   "outputs": [
    {
     "name": "stdout",
     "output_type": "stream",
     "text": [
      "this is seen\n"
     ]
    },
    {
     "data": {
      "text/plain": [
       "2"
      ]
     },
     "execution_count": 3,
     "metadata": {},
     "output_type": "execute_result"
    }
   ],
   "source": [
    "s = \"abccbaabccba\"\n",
    "# Your code here\n",
    "all_str = [f\"{big}\" for big in \"abcdefghijklmnopqrstuvwxyz\" ]\n",
    "count = {a:0 for a in all_str}\n",
    "for i in range(0,len(s)):\n",
    "    if s[i] in all_str:\n",
    "        count[s[i]]+=1\n",
    "y = []\n",
    "for i in all_str:\n",
    "    if count[i] != 0:\n",
    "        y.append(count[i])\n",
    "print('this is seen')\n",
    "min(y)\n",
    "\n"
   ]
  },
  {
   "cell_type": "code",
   "execution_count": null,
   "metadata": {},
   "outputs": [],
   "source": []
  }
 ],
 "metadata": {
  "kernelspec": {
   "display_name": "Python 3 (ipykernel)",
   "language": "python",
   "name": "python3"
  },
  "language_info": {
   "codemirror_mode": {
    "name": "ipython",
    "version": 3
   },
   "file_extension": ".py",
   "mimetype": "text/x-python",
   "name": "python",
   "nbconvert_exporter": "python",
   "pygments_lexer": "ipython3",
   "version": "3.10.1"
  }
 },
 "nbformat": 4,
 "nbformat_minor": 2
}
