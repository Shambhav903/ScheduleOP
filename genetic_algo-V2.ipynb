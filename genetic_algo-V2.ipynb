{
 "cells": [
  {
   "cell_type": "code",
   "execution_count": 10,
   "metadata": {},
   "outputs": [],
   "source": [
    "# !pip install tabulate\n",
    "\n",
    "import random\n",
    "from tabulate import tabulate\n",
    "import plotly.express  as px\n",
    "import plotly.io as pio"
   ]
  },
  {
   "cell_type": "code",
   "execution_count": 11,
   "metadata": {},
   "outputs": [],
   "source": [
    "# function that takes in gene and returns the reward/penalty allocated\n",
    "\n",
    "def get_reward(gene,test = False):\n",
    "    n = length_of_atom = 3\n",
    "\n",
    "    primary_conflict = 0\n",
    "    secondary_conflict = 0\n",
    "\n",
    "    random = gene\n",
    "    new_list = [random[i:i+n] for i in range(0, len(random), n)]\n",
    "\n",
    "    # separate into according to subject group \n",
    "    table_student_group_1 = [] \n",
    "    table_student_group_2 = [] \n",
    "    table_student_group_3 = []\n",
    "\n",
    "    # according to classes\n",
    "    table_class_1 = []\n",
    "    table_class_2 = []\n",
    "    table_class_3 = []\n",
    "    # chromosome is the 3 atoms that represent classes at a certain time slot \n",
    "    # i.e classes in sunday 9-11 time slot\n",
    "    chromosomes = []\n",
    "\n",
    "    # tables \n",
    "    for j in range(0, len(new_list)):\n",
    "        if (new_list[j][1]== 'a'):\n",
    "            table_student_group_1.append(new_list[j])\n",
    "        elif (new_list[j][1]== 'b'):\n",
    "            table_student_group_2.append(new_list[j])\n",
    "        elif (new_list[j][1]== 'c'):\n",
    "            table_student_group_3.append(new_list[j])\n",
    "\n",
    "    for j in range(0, len(new_list)):\n",
    "        if (new_list[j][2]== '1'):\n",
    "            table_class_1.append(new_list[j])\n",
    "        elif (new_list[j][2]== '2'):\n",
    "            table_class_2.append(new_list[j])\n",
    "        elif (new_list[j][2]== '3'):\n",
    "            table_class_3.append(new_list[j])\n",
    "\n",
    "\n",
    "    # separate into chromosomes ie. 3 atoms representing classes at a time\n",
    "    \n",
    "    for i in range(0, len(gene), 9):\n",
    "        chromosome = gene[i:i+9]\n",
    "        chromosomes.append(chromosome)\n",
    "        group_count = {combo: 0 for combo in 'abc'}\n",
    "        class_count = {combo: 0 for combo in '123'}\n",
    "        # check if two classes at the same classroom\n",
    "        # and check if two subject group at same time\n",
    "        if test == True:\n",
    "            print(chromosome)\n",
    "        for a in range(0,3):\n",
    "            if chromosome[2+3*a] in '123':\n",
    "                class_count[chromosome[2+3*a]] += 1\n",
    "            if chromosome[1+3*a] in 'abc':\n",
    "                group_count[chromosome[1+3*a]] += 1\n",
    "        \n",
    "        # main checking part\n",
    "        if  (max([a for a in group_count.values()])>1):\n",
    "            primary_conflict+=1\n",
    "        \n",
    "            if test == True:\n",
    "                # for testing only\n",
    "                print(f\"group conflict in chromosone {i/9}\")\n",
    "\n",
    "        if  (max([a for a in class_count.values()])>1):\n",
    "            primary_conflict+=1\n",
    "            if test == True:\n",
    "                # for testing only\n",
    "                print(f\"class conflict in chromosone {i/9}\")\n",
    "            \n",
    "    # to take into account more or less than 18 classes of a subject group \n",
    "    if len(table_student_group_1) != 18:primary_conflict += 1\n",
    "    if len(table_student_group_2) != 18:primary_conflict += 1\n",
    "    if len(table_student_group_3) != 18:primary_conflict += 1\n",
    "\n",
    "    ###########################################################\n",
    "    # For Secondary Conflicts\n",
    "    \n",
    "    # Once subject more than twice or less then once per week\n",
    "    # Check student group table individually, if subject represented by \"ABCDEF\"\n",
    "    # is not repeated exactly twice, then conflict occurs\n",
    "    # count conflict for each repeated occurance of subject and for each student group table    \n",
    "    if test == True:\n",
    "        print(table_student_group_1)\n",
    "\n",
    "\n",
    "    # For student_group_a\n",
    "    subject_repetitions_count = {combo: 0 for combo in 'ABCDEF'}\n",
    "    for i in table_student_group_1:\n",
    "        if i[0] in subject_repetitions_count:\n",
    "            subject_repetitions_count[i[0]] += 1\n",
    "\n",
    "    for subject_repetitions_key in subject_repetitions_count.keys():\n",
    "        if subject_repetitions_count[subject_repetitions_key]!=2:\n",
    "            secondary_conflict += abs(abs(subject_repetitions_count[subject_repetitions_key])-2)\n",
    "            \n",
    "            if test == True:\n",
    "                # for testing only\n",
    "                print(f\"subject {subject_repetitions_key} is repeated {subject_repetitions_count[subject_repetitions_key]} times\")\n",
    "                #\n",
    "\n",
    "    if test == True:\n",
    "        print(table_student_group_2)\n",
    "\n",
    "    # For student_group_b\n",
    "    subject_repetitions_count = {combo: 0 for combo in 'ABCDEF'}\n",
    "    for i in table_student_group_2:\n",
    "        if i[0] in subject_repetitions_count:\n",
    "            subject_repetitions_count[i[0]] += 1\n",
    "\n",
    "    for subject_repetitions_key in subject_repetitions_count.keys():\n",
    "        if subject_repetitions_count[subject_repetitions_key]!=2:\n",
    "            secondary_conflict += abs(abs(subject_repetitions_count[subject_repetitions_key])-2)\n",
    "\n",
    "            if test == True:\n",
    "                # for testing only\n",
    "                print(f\"subject {subject_repetitions_key} is repeated {subject_repetitions_count[subject_repetitions_key]} times\")\n",
    "                #\n",
    "            \n",
    "\n",
    "    if test == True:\n",
    "        print(table_student_group_3)\n",
    "    # For student_group_c\n",
    "    subject_repetitions_count = {combo: 0 for combo in 'ABCDEF'}\n",
    "    for i in table_student_group_3:\n",
    "        if i[0] in subject_repetitions_count:\n",
    "            subject_repetitions_count[i[0]] += 1\n",
    "\n",
    "    for subject_repetitions_key in subject_repetitions_count.keys():\n",
    "        if subject_repetitions_count[subject_repetitions_key]!=2:\n",
    "            secondary_conflict += abs(abs(subject_repetitions_count[subject_repetitions_key])-2) \n",
    "            \n",
    "            if test == True:\n",
    "                # for testing only\n",
    "                print(subject_repetitions_count)\n",
    "                print(f\"subject {subject_repetitions_key} is repeated {subject_repetitions_count[subject_repetitions_key]} times\")\n",
    "                #                \n",
    "    reward = primary_conflict*-100 -50*secondary_conflict\n",
    "    return reward"
   ]
  },
  {
   "cell_type": "code",
   "execution_count": 12,
   "metadata": {},
   "outputs": [
    {
     "name": "stdout",
     "output_type": "stream",
     "text": [
      "my average reward is -4197.5 for gen 0\n",
      "my average reward is -3663.0 for gen 1\n",
      "my average reward is -3514.25 for gen 2\n",
      "my average reward is -3356.25 for gen 3\n",
      "my average reward is -3210.5 for gen 4\n",
      "my average reward is -3066.75 for gen 5\n",
      "my average reward is -2919.75 for gen 6\n",
      "my average reward is -2780.0 for gen 7\n",
      "my average reward is -2665.25 for gen 8\n",
      "my average reward is -2564.0 for gen 9\n",
      "my average reward is -2474.0 for gen 10\n",
      "my average reward is -2410.75 for gen 11\n",
      "my average reward is -2355.0 for gen 12\n",
      "my average reward is -2301.5 for gen 13\n",
      "my average reward is -2248.75 for gen 14\n",
      "my average reward is -2205.25 for gen 15\n",
      "my average reward is -2164.75 for gen 16\n",
      "my average reward is -2131.75 for gen 17\n",
      "my average reward is -2088.5 for gen 18\n",
      "my average reward is -2048.0 for gen 19\n",
      "my average reward is -2004.5 for gen 20\n",
      "my average reward is -1950.75 for gen 21\n",
      "my average reward is -1913.5 for gen 22\n",
      "my average reward is -1875.75 for gen 23\n",
      "my average reward is -1841.25 for gen 24\n",
      "my average reward is -1801.25 for gen 25\n",
      "my average reward is -1776.75 for gen 26\n",
      "my average reward is -1747.0 for gen 27\n",
      "my average reward is -1714.25 for gen 28\n",
      "my average reward is -1693.0 for gen 29\n",
      "my average reward is -1658.25 for gen 30\n",
      "my average reward is -1624.75 for gen 31\n",
      "my average reward is -1591.0 for gen 32\n",
      "my average reward is -1567.0 for gen 33\n",
      "my average reward is -1536.75 for gen 34\n",
      "my average reward is -1511.5 for gen 35\n",
      "my average reward is -1497.25 for gen 36\n",
      "my average reward is -1481.25 for gen 37\n",
      "my average reward is -1457.5 for gen 38\n",
      "my average reward is -1445.5 for gen 39\n",
      "my average reward is -1428.5 for gen 40\n",
      "my average reward is -1411.75 for gen 41\n",
      "my average reward is -1394.5 for gen 42\n",
      "my average reward is -1370.5 for gen 43\n",
      "my average reward is -1356.0 for gen 44\n",
      "my average reward is -1339.25 for gen 45\n",
      "my average reward is -1328.75 for gen 46\n",
      "my average reward is -1313.5 for gen 47\n",
      "my average reward is -1308.5 for gen 48\n",
      "my average reward is -1293.75 for gen 49\n",
      "my average reward is -1281.25 for gen 50\n",
      "my average reward is -1261.25 for gen 51\n",
      "my average reward is -1242.25 for gen 52\n",
      "my average reward is -1225.0 for gen 53\n",
      "my average reward is -1206.5 for gen 54\n",
      "my average reward is -1197.5 for gen 55\n",
      "my average reward is -1179.25 for gen 56\n",
      "my average reward is -1158.25 for gen 57\n",
      "my average reward is -1144.0 for gen 58\n",
      "my average reward is -1127.5 for gen 59\n",
      "my average reward is -1106.0 for gen 60\n",
      "my average reward is -1095.0 for gen 61\n",
      "my average reward is -1075.5 for gen 62\n",
      "my average reward is -1057.0 for gen 63\n",
      "my average reward is -1052.25 for gen 64\n",
      "my average reward is -1045.25 for gen 65\n",
      "my average reward is -1031.75 for gen 66\n",
      "my average reward is -1013.5 for gen 67\n",
      "my average reward is -1005.5 for gen 68\n",
      "my average reward is -996.75 for gen 69\n",
      "my average reward is -982.75 for gen 70\n",
      "my average reward is -959.25 for gen 71\n",
      "my average reward is -961.25 for gen 72\n",
      "my average reward is -953.5 for gen 73\n",
      "my average reward is -944.0 for gen 74\n",
      "my average reward is -928.0 for gen 75\n",
      "my average reward is -918.75 for gen 76\n",
      "my average reward is -910.0 for gen 77\n",
      "my average reward is -905.0 for gen 78\n",
      "my average reward is -898.25 for gen 79\n",
      "my average reward is -891.75 for gen 80\n",
      "my average reward is -877.0 for gen 81\n",
      "my average reward is -873.5 for gen 82\n",
      "my average reward is -872.25 for gen 83\n",
      "my average reward is -863.0 for gen 84\n",
      "my average reward is -852.0 for gen 85\n",
      "my average reward is -841.0 for gen 86\n",
      "my average reward is -825.0 for gen 87\n",
      "my average reward is -816.5 for gen 88\n",
      "my average reward is -807.0 for gen 89\n",
      "my average reward is -801.0 for gen 90\n",
      "my average reward is -796.0 for gen 91\n",
      "my average reward is -782.75 for gen 92\n",
      "my average reward is -781.0 for gen 93\n",
      "my average reward is -776.25 for gen 94\n",
      "my average reward is -768.75 for gen 95\n",
      "my average reward is -761.0 for gen 96\n",
      "my average reward is -753.75 for gen 97\n",
      "my average reward is -745.0 for gen 98\n",
      "my average reward is -731.75 for gen 99\n",
      "my average reward is -730.0 for gen 100\n",
      "my average reward is -727.75 for gen 101\n",
      "my average reward is -721.0 for gen 102\n",
      "my average reward is -716.25 for gen 103\n",
      "my average reward is -705.0 for gen 104\n",
      "my average reward is -701.5 for gen 105\n",
      "my average reward is -693.0 for gen 106\n",
      "my average reward is -684.75 for gen 107\n",
      "my average reward is -669.5 for gen 108\n",
      "my average reward is -668.0 for gen 109\n",
      "my average reward is -659.0 for gen 110\n",
      "my average reward is -656.75 for gen 111\n",
      "my average reward is -647.0 for gen 112\n",
      "my average reward is -640.25 for gen 113\n",
      "my average reward is -629.0 for gen 114\n",
      "my average reward is -623.0 for gen 115\n",
      "my average reward is -621.0 for gen 116\n",
      "my average reward is -613.5 for gen 117\n",
      "my average reward is -609.25 for gen 118\n",
      "my average reward is -602.0 for gen 119\n",
      "my average reward is -596.0 for gen 120\n",
      "my average reward is -586.0 for gen 121\n",
      "my average reward is -573.5 for gen 122\n",
      "my average reward is -571.0 for gen 123\n",
      "my average reward is -567.75 for gen 124\n",
      "my average reward is -566.25 for gen 125\n",
      "my average reward is -566.5 for gen 126\n",
      "my average reward is -563.25 for gen 127\n",
      "my average reward is -558.25 for gen 128\n",
      "my average reward is -555.25 for gen 129\n",
      "my average reward is -547.25 for gen 130\n",
      "my average reward is -543.25 for gen 131\n",
      "my average reward is -539.5 for gen 132\n",
      "my average reward is -535.75 for gen 133\n",
      "my average reward is -532.0 for gen 134\n",
      "my average reward is -529.25 for gen 135\n",
      "my average reward is -524.75 for gen 136\n",
      "my average reward is -523.25 for gen 137\n",
      "my average reward is -519.5 for gen 138\n",
      "my average reward is -515.5 for gen 139\n",
      "my average reward is -507.75 for gen 140\n",
      "my average reward is -505.5 for gen 141\n",
      "my average reward is -503.25 for gen 142\n",
      "my average reward is -497.75 for gen 143\n",
      "my average reward is -487.5 for gen 144\n",
      "my average reward is -486.25 for gen 145\n",
      "my average reward is -480.25 for gen 146\n",
      "my average reward is -472.0 for gen 147\n",
      "my average reward is -465.25 for gen 148\n",
      "my average reward is -459.25 for gen 149\n",
      "my average reward is -455.75 for gen 150\n",
      "my average reward is -456.0 for gen 151\n",
      "my average reward is -450.5 for gen 152\n",
      "my average reward is -438.25 for gen 153\n",
      "my average reward is -430.75 for gen 154\n",
      "my average reward is -432.25 for gen 155\n",
      "my average reward is -429.5 for gen 156\n",
      "my average reward is -427.25 for gen 157\n",
      "my average reward is -427.0 for gen 158\n",
      "my average reward is -426.75 for gen 159\n",
      "my average reward is -422.5 for gen 160\n",
      "my average reward is -421.5 for gen 161\n",
      "my average reward is -416.5 for gen 162\n",
      "my average reward is -413.0 for gen 163\n",
      "my average reward is -404.0 for gen 164\n",
      "my average reward is -394.0 for gen 165\n",
      "my average reward is -390.0 for gen 166\n",
      "my average reward is -390.0 for gen 167\n",
      "my average reward is -385.75 for gen 168\n",
      "my average reward is -387.5 for gen 169\n",
      "my average reward is -388.0 for gen 170\n",
      "my average reward is -384.5 for gen 171\n",
      "my average reward is -382.0 for gen 172\n",
      "my average reward is -382.0 for gen 173\n",
      "my average reward is -377.5 for gen 174\n",
      "my average reward is -376.25 for gen 175\n",
      "my average reward is -371.0 for gen 176\n",
      "my average reward is -362.25 for gen 177\n",
      "my average reward is -354.5 for gen 178\n",
      "my average reward is -353.5 for gen 179\n",
      "my average reward is -348.25 for gen 180\n",
      "my average reward is -346.0 for gen 181\n",
      "my average reward is -336.25 for gen 182\n",
      "my average reward is -323.75 for gen 183\n",
      "my average reward is -321.5 for gen 184\n",
      "my average reward is -313.25 for gen 185\n",
      "my average reward is -305.25 for gen 186\n",
      "my average reward is -304.0 for gen 187\n",
      "my average reward is -300.0 for gen 188\n",
      "my average reward is -294.25 for gen 189\n",
      "my average reward is -288.0 for gen 190\n",
      "my average reward is -283.0 for gen 191\n",
      "my average reward is -276.25 for gen 192\n",
      "my average reward is -274.0 for gen 193\n",
      "my average reward is -267.75 for gen 194\n",
      "my average reward is -269.75 for gen 195\n",
      "my average reward is -263.25 for gen 196\n",
      "my average reward is -265.5 for gen 197\n",
      "my average reward is -260.75 for gen 198\n",
      "my average reward is -260.0 for gen 199\n",
      "my average reward is -250.0 for gen 200\n",
      "my average reward is -234.75 for gen 201\n",
      "my average reward is -228.25 for gen 202\n",
      "my average reward is -223.75 for gen 203\n",
      "my average reward is -219.25 for gen 204\n",
      "my average reward is -218.25 for gen 205\n",
      "my average reward is -224.0 for gen 206\n",
      "my average reward is -216.75 for gen 207\n",
      "my average reward is -218.0 for gen 208\n",
      "my average reward is -214.75 for gen 209\n",
      "my average reward is -212.0 for gen 210\n",
      "my average reward is -206.25 for gen 211\n",
      "my average reward is -202.75 for gen 212\n",
      "my average reward is -193.25 for gen 213\n",
      "my average reward is -185.0 for gen 214\n",
      "my average reward is -186.25 for gen 215\n",
      "my average reward is -189.75 for gen 216\n",
      "my average reward is -187.75 for gen 217\n",
      "my average reward is -186.5 for gen 218\n",
      "my average reward is -186.5 for gen 219\n",
      "my average reward is -186.75 for gen 220\n",
      "my average reward is -185.25 for gen 221\n",
      "my average reward is -182.25 for gen 222\n",
      "my average reward is -179.75 for gen 223\n",
      "my average reward is -178.75 for gen 224\n",
      "my average reward is -178.75 for gen 225\n",
      "my average reward is -173.75 for gen 226\n",
      "my average reward is -175.0 for gen 227\n",
      "my average reward is -173.25 for gen 228\n",
      "my average reward is -167.5 for gen 229\n",
      "my average reward is -162.5 for gen 230\n",
      "my average reward is -160.5 for gen 231\n",
      "my average reward is -159.25 for gen 232\n",
      "my average reward is -153.5 for gen 233\n",
      "my average reward is -154.25 for gen 234\n",
      "my average reward is -146.25 for gen 235\n",
      "my average reward is -148.75 for gen 236\n",
      "my average reward is -143.25 for gen 237\n",
      "my average reward is -139.5 for gen 238\n",
      "my average reward is -138.0 for gen 239\n",
      "my average reward is -138.25 for gen 240\n",
      "my average reward is -137.25 for gen 241\n",
      "my average reward is -135.25 for gen 242\n",
      "my average reward is -133.25 for gen 243\n",
      "my average reward is -132.75 for gen 244\n",
      "my average reward is -129.5 for gen 245\n",
      "my average reward is -129.5 for gen 246\n",
      "my average reward is -128.75 for gen 247\n",
      "my average reward is -128.75 for gen 248\n",
      "my average reward is -123.5 for gen 249\n",
      "my average reward is -123.75 for gen 250\n",
      "my average reward is -121.5 for gen 251\n",
      "my average reward is -114.5 for gen 252\n",
      "my average reward is -107.5 for gen 253\n",
      "my average reward is -105.5 for gen 254\n",
      "my average reward is -101.5 for gen 255\n",
      "my average reward is -107.0 for gen 256\n",
      "my average reward is -104.0 for gen 257\n",
      "my average reward is -97.0 for gen 258\n",
      "my average reward is -89.0 for gen 259\n",
      "my average reward is -88.75 for gen 260\n",
      "my average reward is -89.25 for gen 261\n",
      "my average reward is -90.0 for gen 262\n",
      "my average reward is -89.0 for gen 263\n",
      "my average reward is -87.75 for gen 264\n",
      "my average reward is -87.0 for gen 265\n",
      "my average reward is -84.25 for gen 266\n",
      "my average reward is -87.0 for gen 267\n",
      "my average reward is -84.25 for gen 268\n",
      "my average reward is -82.75 for gen 269\n",
      "my average reward is -79.5 for gen 270\n",
      "my average reward is -82.75 for gen 271\n",
      "my average reward is -82.75 for gen 272\n",
      "my average reward is -80.75 for gen 273\n",
      "my average reward is -75.25 for gen 274\n",
      "my average reward is -74.25 for gen 275\n",
      "my average reward is -74.0 for gen 276\n",
      "my average reward is -74.0 for gen 277\n",
      "my average reward is -75.5 for gen 278\n",
      "my average reward is -77.0 for gen 279\n",
      "my average reward is -71.75 for gen 280\n",
      "my average reward is -73.25 for gen 281\n",
      "my average reward is -71.25 for gen 282\n",
      "my average reward is -68.0 for gen 283\n",
      "my average reward is -65.75 for gen 284\n",
      "my average reward is -64.0 for gen 285\n",
      "my average reward is -61.25 for gen 286\n",
      "my average reward is -62.5 for gen 287\n",
      "my average reward is -57.25 for gen 288\n",
      "my average reward is -57.5 for gen 289\n",
      "my average reward is -55.5 for gen 290\n",
      "my average reward is -51.25 for gen 291\n",
      "my average reward is -47.75 for gen 292\n",
      "my average reward is -49.5 for gen 293\n",
      "my average reward is -41.0 for gen 294\n",
      "my average reward is -40.5 for gen 295\n",
      "my average reward is -40.5 for gen 296\n",
      "my average reward is -39.0 for gen 297\n",
      "my average reward is -40.0 for gen 298\n",
      "my average reward is -39.25 for gen 299\n",
      "my average reward is -38.5 for gen 300\n",
      "my average reward is -38.5 for gen 301\n",
      "my average reward is -37.75 for gen 302\n",
      "my average reward is -35.75 for gen 303\n",
      "my average reward is -33.5 for gen 304\n",
      "my average reward is -34.75 for gen 305\n",
      "my average reward is -34.25 for gen 306\n",
      "my average reward is -34.5 for gen 307\n",
      "my average reward is -36.25 for gen 308\n",
      "my average reward is -36.0 for gen 309\n",
      "my average reward is -34.25 for gen 310\n",
      "my average reward is -33.5 for gen 311\n",
      "my average reward is -34.75 for gen 312\n",
      "my average reward is -34.25 for gen 313\n",
      "my average reward is -30.25 for gen 314\n",
      "my average reward is -30.75 for gen 315\n",
      "my average reward is -33.25 for gen 316\n",
      "my average reward is -33.75 for gen 317\n",
      "my average reward is -31.25 for gen 318\n",
      "my average reward is -33.0 for gen 319\n",
      "my average reward is -33.0 for gen 320\n",
      "my average reward is -33.5 for gen 321\n",
      "my average reward is -33.5 for gen 322\n",
      "my average reward is -35.0 for gen 323\n",
      "my average reward is -33.0 for gen 324\n",
      "my average reward is -28.75 for gen 325\n",
      "my average reward is -29.25 for gen 326\n",
      "my average reward is -26.5 for gen 327\n",
      "my average reward is -26.5 for gen 328\n",
      "my average reward is -28.25 for gen 329\n",
      "my average reward is -30.5 for gen 330\n",
      "my average reward is -28.75 for gen 331\n",
      "my average reward is -31.5 for gen 332\n",
      "my average reward is -33.5 for gen 333\n",
      "my average reward is -32.0 for gen 334\n",
      "my average reward is -33.5 for gen 335\n",
      "my average reward is -31.5 for gen 336\n",
      "my average reward is -32.75 for gen 337\n",
      "my average reward is -31.75 for gen 338\n",
      "my average reward is -32.25 for gen 339\n",
      "my average reward is -30.75 for gen 340\n",
      "my average reward is -29.75 for gen 341\n",
      "my average reward is -28.5 for gen 342\n",
      "my average reward is -25.75 for gen 343\n",
      "my average reward is -25.5 for gen 344\n",
      "my average reward is -24.25 for gen 345\n",
      "my average reward is -20.25 for gen 346\n",
      "my average reward is -18.25 for gen 347\n",
      "my average reward is -16.25 for gen 348\n",
      "my average reward is -13.75 for gen 349\n",
      "my average reward is -14.25 for gen 350\n",
      "my average reward is -15.5 for gen 351\n",
      "my average reward is -13.25 for gen 352\n",
      "my average reward is -11.75 for gen 353\n",
      "my average reward is -12.25 for gen 354\n",
      "my average reward is -13.5 for gen 355\n",
      "my average reward is -8.5 for gen 356\n",
      "my average reward is -8.5 for gen 357\n",
      "my average reward is -6.5 for gen 358\n",
      "my average reward is -3.0 for gen 359\n",
      "my average reward is -1.25 for gen 360\n",
      "my average reward is -1.75 for gen 361\n",
      "my average reward is 0.0 for gen 362\n"
     ]
    }
   ],
   "source": [
    "random.seed(0)\n",
    "prob = 0.49\n",
    "\n",
    "def create_gene():\n",
    "    '''\n",
    "    create chromosome or string of genes\n",
    "    Ruby\n",
    "    '''\n",
    "    possible_combinations = [f\"{subject}{group}{classroom}\" for subject in \"ABCDEFG\" for group in \"abc\" for classroom in \"123\"]\n",
    "    a = ''\n",
    "    for i in range (0,54) : \n",
    "        random_num = random.choice(possible_combinations)\n",
    "        a = a + str(random_num)\n",
    "    return a\n",
    "\n",
    "def pick_an_atom_for_me(atom_1,atom_2):\n",
    "    possible_combinations = [f\"{subject}{group}{classroom}\" for subject in \"ABCDEFG\" for group in \"abc\" for classroom in \"123\"]\n",
    "    x = random.uniform(0, 1)\n",
    "    if x <= prob:\n",
    "        return atom_1\n",
    "    elif x <= prob*2:\n",
    "        return atom_2\n",
    "    return random.choice(possible_combinations)\n",
    "\n",
    "def give_me_my_child(parent_1,parent_2):\n",
    "    n = size_of_atom = 3 \n",
    "    child = []\n",
    "    parent_1_separated_into_atoms = [parent_1[i:i+n] for i in range(0, len(parent_1), size_of_atom)]\n",
    "    parent_2_separated_into_atoms = [parent_1[i:i+n] for i in range(0, len(parent_2), size_of_atom)]\n",
    "    for i in range(len(parent_1_separated_into_atoms)):\n",
    "        child.append(pick_an_atom_for_me(parent_1_separated_into_atoms[i],parent_2_separated_into_atoms[i]))\n",
    "    return ''.join(child)\n",
    "\n",
    "def sort_my_genes(unsorted_list):\n",
    "    test_list = []\n",
    "    sorted_list = []\n",
    "    for i in unsorted_list:\n",
    "        test_list.append((i,get_reward(i)))\n",
    "    test_list.sort(key = lambda x: x[1],reverse=True)\n",
    "    for i in test_list:\n",
    "        sorted_list.append(i[0])\n",
    "    return sorted_list\n",
    "\n",
    "def genetic_algotithm(list_of_parent_genes):\n",
    "    # Crossbreeding\n",
    "    children_genes = []\n",
    "    for j in range(3):\n",
    "        random.shuffle(list_of_parent_genes)\n",
    "        for i in range(0,len(list_of_parent_genes)-1):\n",
    "            children_genes.append(give_me_my_child(list_of_parent_genes[i],list_of_parent_genes[i+1]))\n",
    "        # for i in range(0,int(len(list_of_parent_genes)/2)):\n",
    "        #     children_genes.append(give_me_my_child(list_of_parent_genes[i],list_of_parent_genes[i+1]))\n",
    "                \n",
    "        \n",
    "    children_genes = sort_my_genes(children_genes)\n",
    "    return children_genes[0:500]\n",
    "\n",
    "def get_my_average_reward(generation):\n",
    "    total_reward = 0\n",
    "    gen = generation[0:200]\n",
    "    for i in gen:\n",
    "        total_reward += get_reward(i)\n",
    "    return total_reward/len(gen)\n",
    "\n",
    "rewards_data = []\n",
    "\n",
    "def run_my_algo():\n",
    "\n",
    "    ancestory = []\n",
    "    gen_temp = []\n",
    "    gen_temp2 = []\n",
    "\n",
    "    for i in range(0,500):\n",
    "        gen_temp.append(create_gene())\n",
    "\n",
    "    # for i in range(0,500):\n",
    "    #     gen_temp2.append(create_gene())\n",
    "    gen_temp2 = gen_temp\n",
    "    #print(gen_temp2)\n",
    "\n",
    "    #print(get_my_average_reward(gen_temp))\n",
    "    ancestory.append(get_my_average_reward(gen_temp))\n",
    "    print(f\"my average reward is {ancestory[0]} for gen {0}\")\n",
    "\n",
    "    for i in range(0,550):\n",
    "        gen_temp = genetic_algotithm(gen_temp)\n",
    "        ancestory.append(get_my_average_reward(gen_temp))\n",
    "        print(f\"my average reward is {ancestory[i+1]} for gen {i+1}\")\n",
    "        if i == 300: prob= 0.45\n",
    "        if i == 445: prob= 0.49\n",
    "        if ancestory[i+1] == 0:\n",
    "            break\n",
    "        \n",
    "\n",
    "\n",
    "    return ancestory,gen_temp\n",
    "\n",
    "all_rewards,reward5 = run_my_algo()"
   ]
  },
  {
   "cell_type": "code",
   "execution_count": 13,
   "metadata": {},
   "outputs": [
    {
     "data": {
      "application/vnd.plotly.v1+json": {
       "config": {
        "plotlyServerURL": "https://plot.ly"
       },
       "data": [
        {
         "hovertemplate": "Generation=%{x}<br>Reward=%{y}<extra></extra>",
         "legendgroup": "",
         "line": {
          "color": "#636efa",
          "dash": "solid"
         },
         "marker": {
          "symbol": "circle"
         },
         "mode": "lines",
         "name": "",
         "orientation": "v",
         "showlegend": false,
         "type": "scatter",
         "x": [
          0,
          1,
          2,
          3,
          4,
          5,
          6,
          7,
          8,
          9,
          10,
          11,
          12,
          13,
          14,
          15,
          16,
          17,
          18,
          19,
          20,
          21,
          22,
          23,
          24,
          25,
          26,
          27,
          28,
          29,
          30,
          31,
          32,
          33,
          34,
          35,
          36,
          37,
          38,
          39,
          40,
          41,
          42,
          43,
          44,
          45,
          46,
          47,
          48,
          49,
          50,
          51,
          52,
          53,
          54,
          55,
          56,
          57,
          58,
          59,
          60,
          61,
          62,
          63,
          64,
          65,
          66,
          67,
          68,
          69,
          70,
          71,
          72,
          73,
          74,
          75,
          76,
          77,
          78,
          79,
          80,
          81,
          82,
          83,
          84,
          85,
          86,
          87,
          88,
          89,
          90,
          91,
          92,
          93,
          94,
          95,
          96,
          97,
          98,
          99,
          100,
          101,
          102,
          103,
          104,
          105,
          106,
          107,
          108,
          109,
          110,
          111,
          112,
          113,
          114,
          115,
          116,
          117,
          118,
          119,
          120,
          121,
          122,
          123,
          124,
          125,
          126,
          127,
          128,
          129,
          130,
          131,
          132,
          133,
          134,
          135,
          136,
          137,
          138,
          139,
          140,
          141,
          142,
          143,
          144,
          145,
          146,
          147,
          148,
          149,
          150,
          151,
          152,
          153,
          154,
          155,
          156,
          157,
          158,
          159,
          160,
          161,
          162,
          163,
          164,
          165,
          166,
          167,
          168,
          169,
          170,
          171,
          172,
          173,
          174,
          175,
          176,
          177,
          178,
          179,
          180,
          181,
          182,
          183,
          184,
          185,
          186,
          187,
          188,
          189,
          190,
          191,
          192,
          193,
          194,
          195,
          196,
          197,
          198,
          199,
          200,
          201,
          202,
          203,
          204,
          205,
          206,
          207,
          208,
          209,
          210,
          211,
          212,
          213,
          214,
          215,
          216,
          217,
          218,
          219,
          220,
          221,
          222,
          223,
          224,
          225,
          226,
          227,
          228,
          229,
          230,
          231,
          232,
          233,
          234,
          235,
          236,
          237,
          238,
          239,
          240,
          241,
          242,
          243,
          244,
          245,
          246,
          247,
          248,
          249,
          250,
          251,
          252,
          253,
          254,
          255,
          256,
          257,
          258,
          259,
          260,
          261,
          262,
          263,
          264,
          265,
          266,
          267,
          268,
          269,
          270,
          271,
          272,
          273,
          274,
          275,
          276,
          277,
          278,
          279,
          280,
          281,
          282,
          283,
          284,
          285,
          286,
          287,
          288,
          289,
          290,
          291,
          292,
          293,
          294,
          295,
          296,
          297,
          298,
          299,
          300,
          301,
          302,
          303,
          304,
          305,
          306,
          307,
          308,
          309,
          310,
          311,
          312,
          313,
          314,
          315,
          316,
          317,
          318,
          319,
          320,
          321,
          322,
          323,
          324,
          325,
          326,
          327,
          328,
          329,
          330,
          331,
          332,
          333,
          334,
          335,
          336,
          337,
          338,
          339,
          340,
          341,
          342,
          343,
          344,
          345,
          346,
          347,
          348,
          349,
          350,
          351,
          352,
          353,
          354,
          355,
          356,
          357,
          358,
          359,
          360,
          361,
          362
         ],
         "xaxis": "x",
         "y": [
          -4197.5,
          -3663,
          -3514.25,
          -3356.25,
          -3210.5,
          -3066.75,
          -2919.75,
          -2780,
          -2665.25,
          -2564,
          -2474,
          -2410.75,
          -2355,
          -2301.5,
          -2248.75,
          -2205.25,
          -2164.75,
          -2131.75,
          -2088.5,
          -2048,
          -2004.5,
          -1950.75,
          -1913.5,
          -1875.75,
          -1841.25,
          -1801.25,
          -1776.75,
          -1747,
          -1714.25,
          -1693,
          -1658.25,
          -1624.75,
          -1591,
          -1567,
          -1536.75,
          -1511.5,
          -1497.25,
          -1481.25,
          -1457.5,
          -1445.5,
          -1428.5,
          -1411.75,
          -1394.5,
          -1370.5,
          -1356,
          -1339.25,
          -1328.75,
          -1313.5,
          -1308.5,
          -1293.75,
          -1281.25,
          -1261.25,
          -1242.25,
          -1225,
          -1206.5,
          -1197.5,
          -1179.25,
          -1158.25,
          -1144,
          -1127.5,
          -1106,
          -1095,
          -1075.5,
          -1057,
          -1052.25,
          -1045.25,
          -1031.75,
          -1013.5,
          -1005.5,
          -996.75,
          -982.75,
          -959.25,
          -961.25,
          -953.5,
          -944,
          -928,
          -918.75,
          -910,
          -905,
          -898.25,
          -891.75,
          -877,
          -873.5,
          -872.25,
          -863,
          -852,
          -841,
          -825,
          -816.5,
          -807,
          -801,
          -796,
          -782.75,
          -781,
          -776.25,
          -768.75,
          -761,
          -753.75,
          -745,
          -731.75,
          -730,
          -727.75,
          -721,
          -716.25,
          -705,
          -701.5,
          -693,
          -684.75,
          -669.5,
          -668,
          -659,
          -656.75,
          -647,
          -640.25,
          -629,
          -623,
          -621,
          -613.5,
          -609.25,
          -602,
          -596,
          -586,
          -573.5,
          -571,
          -567.75,
          -566.25,
          -566.5,
          -563.25,
          -558.25,
          -555.25,
          -547.25,
          -543.25,
          -539.5,
          -535.75,
          -532,
          -529.25,
          -524.75,
          -523.25,
          -519.5,
          -515.5,
          -507.75,
          -505.5,
          -503.25,
          -497.75,
          -487.5,
          -486.25,
          -480.25,
          -472,
          -465.25,
          -459.25,
          -455.75,
          -456,
          -450.5,
          -438.25,
          -430.75,
          -432.25,
          -429.5,
          -427.25,
          -427,
          -426.75,
          -422.5,
          -421.5,
          -416.5,
          -413,
          -404,
          -394,
          -390,
          -390,
          -385.75,
          -387.5,
          -388,
          -384.5,
          -382,
          -382,
          -377.5,
          -376.25,
          -371,
          -362.25,
          -354.5,
          -353.5,
          -348.25,
          -346,
          -336.25,
          -323.75,
          -321.5,
          -313.25,
          -305.25,
          -304,
          -300,
          -294.25,
          -288,
          -283,
          -276.25,
          -274,
          -267.75,
          -269.75,
          -263.25,
          -265.5,
          -260.75,
          -260,
          -250,
          -234.75,
          -228.25,
          -223.75,
          -219.25,
          -218.25,
          -224,
          -216.75,
          -218,
          -214.75,
          -212,
          -206.25,
          -202.75,
          -193.25,
          -185,
          -186.25,
          -189.75,
          -187.75,
          -186.5,
          -186.5,
          -186.75,
          -185.25,
          -182.25,
          -179.75,
          -178.75,
          -178.75,
          -173.75,
          -175,
          -173.25,
          -167.5,
          -162.5,
          -160.5,
          -159.25,
          -153.5,
          -154.25,
          -146.25,
          -148.75,
          -143.25,
          -139.5,
          -138,
          -138.25,
          -137.25,
          -135.25,
          -133.25,
          -132.75,
          -129.5,
          -129.5,
          -128.75,
          -128.75,
          -123.5,
          -123.75,
          -121.5,
          -114.5,
          -107.5,
          -105.5,
          -101.5,
          -107,
          -104,
          -97,
          -89,
          -88.75,
          -89.25,
          -90,
          -89,
          -87.75,
          -87,
          -84.25,
          -87,
          -84.25,
          -82.75,
          -79.5,
          -82.75,
          -82.75,
          -80.75,
          -75.25,
          -74.25,
          -74,
          -74,
          -75.5,
          -77,
          -71.75,
          -73.25,
          -71.25,
          -68,
          -65.75,
          -64,
          -61.25,
          -62.5,
          -57.25,
          -57.5,
          -55.5,
          -51.25,
          -47.75,
          -49.5,
          -41,
          -40.5,
          -40.5,
          -39,
          -40,
          -39.25,
          -38.5,
          -38.5,
          -37.75,
          -35.75,
          -33.5,
          -34.75,
          -34.25,
          -34.5,
          -36.25,
          -36,
          -34.25,
          -33.5,
          -34.75,
          -34.25,
          -30.25,
          -30.75,
          -33.25,
          -33.75,
          -31.25,
          -33,
          -33,
          -33.5,
          -33.5,
          -35,
          -33,
          -28.75,
          -29.25,
          -26.5,
          -26.5,
          -28.25,
          -30.5,
          -28.75,
          -31.5,
          -33.5,
          -32,
          -33.5,
          -31.5,
          -32.75,
          -31.75,
          -32.25,
          -30.75,
          -29.75,
          -28.5,
          -25.75,
          -25.5,
          -24.25,
          -20.25,
          -18.25,
          -16.25,
          -13.75,
          -14.25,
          -15.5,
          -13.25,
          -11.75,
          -12.25,
          -13.5,
          -8.5,
          -8.5,
          -6.5,
          -3,
          -1.25,
          -1.75,
          0
         ],
         "yaxis": "y"
        }
       ],
       "layout": {
        "autosize": true,
        "legend": {
         "tracegroupgap": 0
        },
        "template": {
         "data": {
          "bar": [
           {
            "error_x": {
             "color": "#2a3f5f"
            },
            "error_y": {
             "color": "#2a3f5f"
            },
            "marker": {
             "line": {
              "color": "#E5ECF6",
              "width": 0.5
             },
             "pattern": {
              "fillmode": "overlay",
              "size": 10,
              "solidity": 0.2
             }
            },
            "type": "bar"
           }
          ],
          "barpolar": [
           {
            "marker": {
             "line": {
              "color": "#E5ECF6",
              "width": 0.5
             },
             "pattern": {
              "fillmode": "overlay",
              "size": 10,
              "solidity": 0.2
             }
            },
            "type": "barpolar"
           }
          ],
          "carpet": [
           {
            "aaxis": {
             "endlinecolor": "#2a3f5f",
             "gridcolor": "white",
             "linecolor": "white",
             "minorgridcolor": "white",
             "startlinecolor": "#2a3f5f"
            },
            "baxis": {
             "endlinecolor": "#2a3f5f",
             "gridcolor": "white",
             "linecolor": "white",
             "minorgridcolor": "white",
             "startlinecolor": "#2a3f5f"
            },
            "type": "carpet"
           }
          ],
          "choropleth": [
           {
            "colorbar": {
             "outlinewidth": 0,
             "ticks": ""
            },
            "type": "choropleth"
           }
          ],
          "contour": [
           {
            "colorbar": {
             "outlinewidth": 0,
             "ticks": ""
            },
            "colorscale": [
             [
              0,
              "#0d0887"
             ],
             [
              0.1111111111111111,
              "#46039f"
             ],
             [
              0.2222222222222222,
              "#7201a8"
             ],
             [
              0.3333333333333333,
              "#9c179e"
             ],
             [
              0.4444444444444444,
              "#bd3786"
             ],
             [
              0.5555555555555556,
              "#d8576b"
             ],
             [
              0.6666666666666666,
              "#ed7953"
             ],
             [
              0.7777777777777778,
              "#fb9f3a"
             ],
             [
              0.8888888888888888,
              "#fdca26"
             ],
             [
              1,
              "#f0f921"
             ]
            ],
            "type": "contour"
           }
          ],
          "contourcarpet": [
           {
            "colorbar": {
             "outlinewidth": 0,
             "ticks": ""
            },
            "type": "contourcarpet"
           }
          ],
          "heatmap": [
           {
            "colorbar": {
             "outlinewidth": 0,
             "ticks": ""
            },
            "colorscale": [
             [
              0,
              "#0d0887"
             ],
             [
              0.1111111111111111,
              "#46039f"
             ],
             [
              0.2222222222222222,
              "#7201a8"
             ],
             [
              0.3333333333333333,
              "#9c179e"
             ],
             [
              0.4444444444444444,
              "#bd3786"
             ],
             [
              0.5555555555555556,
              "#d8576b"
             ],
             [
              0.6666666666666666,
              "#ed7953"
             ],
             [
              0.7777777777777778,
              "#fb9f3a"
             ],
             [
              0.8888888888888888,
              "#fdca26"
             ],
             [
              1,
              "#f0f921"
             ]
            ],
            "type": "heatmap"
           }
          ],
          "heatmapgl": [
           {
            "colorbar": {
             "outlinewidth": 0,
             "ticks": ""
            },
            "colorscale": [
             [
              0,
              "#0d0887"
             ],
             [
              0.1111111111111111,
              "#46039f"
             ],
             [
              0.2222222222222222,
              "#7201a8"
             ],
             [
              0.3333333333333333,
              "#9c179e"
             ],
             [
              0.4444444444444444,
              "#bd3786"
             ],
             [
              0.5555555555555556,
              "#d8576b"
             ],
             [
              0.6666666666666666,
              "#ed7953"
             ],
             [
              0.7777777777777778,
              "#fb9f3a"
             ],
             [
              0.8888888888888888,
              "#fdca26"
             ],
             [
              1,
              "#f0f921"
             ]
            ],
            "type": "heatmapgl"
           }
          ],
          "histogram": [
           {
            "marker": {
             "pattern": {
              "fillmode": "overlay",
              "size": 10,
              "solidity": 0.2
             }
            },
            "type": "histogram"
           }
          ],
          "histogram2d": [
           {
            "colorbar": {
             "outlinewidth": 0,
             "ticks": ""
            },
            "colorscale": [
             [
              0,
              "#0d0887"
             ],
             [
              0.1111111111111111,
              "#46039f"
             ],
             [
              0.2222222222222222,
              "#7201a8"
             ],
             [
              0.3333333333333333,
              "#9c179e"
             ],
             [
              0.4444444444444444,
              "#bd3786"
             ],
             [
              0.5555555555555556,
              "#d8576b"
             ],
             [
              0.6666666666666666,
              "#ed7953"
             ],
             [
              0.7777777777777778,
              "#fb9f3a"
             ],
             [
              0.8888888888888888,
              "#fdca26"
             ],
             [
              1,
              "#f0f921"
             ]
            ],
            "type": "histogram2d"
           }
          ],
          "histogram2dcontour": [
           {
            "colorbar": {
             "outlinewidth": 0,
             "ticks": ""
            },
            "colorscale": [
             [
              0,
              "#0d0887"
             ],
             [
              0.1111111111111111,
              "#46039f"
             ],
             [
              0.2222222222222222,
              "#7201a8"
             ],
             [
              0.3333333333333333,
              "#9c179e"
             ],
             [
              0.4444444444444444,
              "#bd3786"
             ],
             [
              0.5555555555555556,
              "#d8576b"
             ],
             [
              0.6666666666666666,
              "#ed7953"
             ],
             [
              0.7777777777777778,
              "#fb9f3a"
             ],
             [
              0.8888888888888888,
              "#fdca26"
             ],
             [
              1,
              "#f0f921"
             ]
            ],
            "type": "histogram2dcontour"
           }
          ],
          "mesh3d": [
           {
            "colorbar": {
             "outlinewidth": 0,
             "ticks": ""
            },
            "type": "mesh3d"
           }
          ],
          "parcoords": [
           {
            "line": {
             "colorbar": {
              "outlinewidth": 0,
              "ticks": ""
             }
            },
            "type": "parcoords"
           }
          ],
          "pie": [
           {
            "automargin": true,
            "type": "pie"
           }
          ],
          "scatter": [
           {
            "fillpattern": {
             "fillmode": "overlay",
             "size": 10,
             "solidity": 0.2
            },
            "type": "scatter"
           }
          ],
          "scatter3d": [
           {
            "line": {
             "colorbar": {
              "outlinewidth": 0,
              "ticks": ""
             }
            },
            "marker": {
             "colorbar": {
              "outlinewidth": 0,
              "ticks": ""
             }
            },
            "type": "scatter3d"
           }
          ],
          "scattercarpet": [
           {
            "marker": {
             "colorbar": {
              "outlinewidth": 0,
              "ticks": ""
             }
            },
            "type": "scattercarpet"
           }
          ],
          "scattergeo": [
           {
            "marker": {
             "colorbar": {
              "outlinewidth": 0,
              "ticks": ""
             }
            },
            "type": "scattergeo"
           }
          ],
          "scattergl": [
           {
            "marker": {
             "colorbar": {
              "outlinewidth": 0,
              "ticks": ""
             }
            },
            "type": "scattergl"
           }
          ],
          "scattermapbox": [
           {
            "marker": {
             "colorbar": {
              "outlinewidth": 0,
              "ticks": ""
             }
            },
            "type": "scattermapbox"
           }
          ],
          "scatterpolar": [
           {
            "marker": {
             "colorbar": {
              "outlinewidth": 0,
              "ticks": ""
             }
            },
            "type": "scatterpolar"
           }
          ],
          "scatterpolargl": [
           {
            "marker": {
             "colorbar": {
              "outlinewidth": 0,
              "ticks": ""
             }
            },
            "type": "scatterpolargl"
           }
          ],
          "scatterternary": [
           {
            "marker": {
             "colorbar": {
              "outlinewidth": 0,
              "ticks": ""
             }
            },
            "type": "scatterternary"
           }
          ],
          "surface": [
           {
            "colorbar": {
             "outlinewidth": 0,
             "ticks": ""
            },
            "colorscale": [
             [
              0,
              "#0d0887"
             ],
             [
              0.1111111111111111,
              "#46039f"
             ],
             [
              0.2222222222222222,
              "#7201a8"
             ],
             [
              0.3333333333333333,
              "#9c179e"
             ],
             [
              0.4444444444444444,
              "#bd3786"
             ],
             [
              0.5555555555555556,
              "#d8576b"
             ],
             [
              0.6666666666666666,
              "#ed7953"
             ],
             [
              0.7777777777777778,
              "#fb9f3a"
             ],
             [
              0.8888888888888888,
              "#fdca26"
             ],
             [
              1,
              "#f0f921"
             ]
            ],
            "type": "surface"
           }
          ],
          "table": [
           {
            "cells": {
             "fill": {
              "color": "#EBF0F8"
             },
             "line": {
              "color": "white"
             }
            },
            "header": {
             "fill": {
              "color": "#C8D4E3"
             },
             "line": {
              "color": "white"
             }
            },
            "type": "table"
           }
          ]
         },
         "layout": {
          "annotationdefaults": {
           "arrowcolor": "#2a3f5f",
           "arrowhead": 0,
           "arrowwidth": 1
          },
          "autotypenumbers": "strict",
          "coloraxis": {
           "colorbar": {
            "outlinewidth": 0,
            "ticks": ""
           }
          },
          "colorscale": {
           "diverging": [
            [
             0,
             "#8e0152"
            ],
            [
             0.1,
             "#c51b7d"
            ],
            [
             0.2,
             "#de77ae"
            ],
            [
             0.3,
             "#f1b6da"
            ],
            [
             0.4,
             "#fde0ef"
            ],
            [
             0.5,
             "#f7f7f7"
            ],
            [
             0.6,
             "#e6f5d0"
            ],
            [
             0.7,
             "#b8e186"
            ],
            [
             0.8,
             "#7fbc41"
            ],
            [
             0.9,
             "#4d9221"
            ],
            [
             1,
             "#276419"
            ]
           ],
           "sequential": [
            [
             0,
             "#0d0887"
            ],
            [
             0.1111111111111111,
             "#46039f"
            ],
            [
             0.2222222222222222,
             "#7201a8"
            ],
            [
             0.3333333333333333,
             "#9c179e"
            ],
            [
             0.4444444444444444,
             "#bd3786"
            ],
            [
             0.5555555555555556,
             "#d8576b"
            ],
            [
             0.6666666666666666,
             "#ed7953"
            ],
            [
             0.7777777777777778,
             "#fb9f3a"
            ],
            [
             0.8888888888888888,
             "#fdca26"
            ],
            [
             1,
             "#f0f921"
            ]
           ],
           "sequentialminus": [
            [
             0,
             "#0d0887"
            ],
            [
             0.1111111111111111,
             "#46039f"
            ],
            [
             0.2222222222222222,
             "#7201a8"
            ],
            [
             0.3333333333333333,
             "#9c179e"
            ],
            [
             0.4444444444444444,
             "#bd3786"
            ],
            [
             0.5555555555555556,
             "#d8576b"
            ],
            [
             0.6666666666666666,
             "#ed7953"
            ],
            [
             0.7777777777777778,
             "#fb9f3a"
            ],
            [
             0.8888888888888888,
             "#fdca26"
            ],
            [
             1,
             "#f0f921"
            ]
           ]
          },
          "colorway": [
           "#636efa",
           "#EF553B",
           "#00cc96",
           "#ab63fa",
           "#FFA15A",
           "#19d3f3",
           "#FF6692",
           "#B6E880",
           "#FF97FF",
           "#FECB52"
          ],
          "font": {
           "color": "#2a3f5f"
          },
          "geo": {
           "bgcolor": "white",
           "lakecolor": "white",
           "landcolor": "#E5ECF6",
           "showlakes": true,
           "showland": true,
           "subunitcolor": "white"
          },
          "hoverlabel": {
           "align": "left"
          },
          "hovermode": "closest",
          "mapbox": {
           "style": "light"
          },
          "paper_bgcolor": "white",
          "plot_bgcolor": "#E5ECF6",
          "polar": {
           "angularaxis": {
            "gridcolor": "white",
            "linecolor": "white",
            "ticks": ""
           },
           "bgcolor": "#E5ECF6",
           "radialaxis": {
            "gridcolor": "white",
            "linecolor": "white",
            "ticks": ""
           }
          },
          "scene": {
           "xaxis": {
            "backgroundcolor": "#E5ECF6",
            "gridcolor": "white",
            "gridwidth": 2,
            "linecolor": "white",
            "showbackground": true,
            "ticks": "",
            "zerolinecolor": "white"
           },
           "yaxis": {
            "backgroundcolor": "#E5ECF6",
            "gridcolor": "white",
            "gridwidth": 2,
            "linecolor": "white",
            "showbackground": true,
            "ticks": "",
            "zerolinecolor": "white"
           },
           "zaxis": {
            "backgroundcolor": "#E5ECF6",
            "gridcolor": "white",
            "gridwidth": 2,
            "linecolor": "white",
            "showbackground": true,
            "ticks": "",
            "zerolinecolor": "white"
           }
          },
          "shapedefaults": {
           "line": {
            "color": "#2a3f5f"
           }
          },
          "ternary": {
           "aaxis": {
            "gridcolor": "white",
            "linecolor": "white",
            "ticks": ""
           },
           "baxis": {
            "gridcolor": "white",
            "linecolor": "white",
            "ticks": ""
           },
           "bgcolor": "#E5ECF6",
           "caxis": {
            "gridcolor": "white",
            "linecolor": "white",
            "ticks": ""
           }
          },
          "title": {
           "x": 0.05
          },
          "xaxis": {
           "automargin": true,
           "gridcolor": "white",
           "linecolor": "white",
           "ticks": "",
           "title": {
            "standoff": 15
           },
           "zerolinecolor": "white",
           "zerolinewidth": 2
          },
          "yaxis": {
           "automargin": true,
           "gridcolor": "white",
           "linecolor": "white",
           "ticks": "",
           "title": {
            "standoff": 15
           },
           "zerolinecolor": "white",
           "zerolinewidth": 2
          }
         }
        },
        "title": {
         "text": "Reward Progression",
         "x": 0.5
        },
        "xaxis": {
         "anchor": "y",
         "autorange": true,
         "domain": [
          0,
          1
         ],
         "range": [
          0,
          362
         ],
         "title": {
          "text": "Generation"
         },
         "type": "linear"
        },
        "yaxis": {
         "anchor": "x",
         "autorange": true,
         "domain": [
          0,
          1
         ],
         "range": [
          -4430.694444444444,
          233.19444444444446
         ],
         "title": {
          "text": "Reward"
         },
         "type": "linear"
        }
       }
      },
      "image/png": "[encoded data removed]",
      "text/html": [
       "<div>                            <div id=\"83d45b90-c2e6-4507-b032-37d4f2c1fa4e\" class=\"plotly-graph-div\" style=\"height:525px; width:100%;\"></div>            <script type=\"text/javascript\">                require([\"plotly\"], function(Plotly) {                    window.PLOTLYENV=window.PLOTLYENV || {};                                    if (document.getElementById(\"83d45b90-c2e6-4507-b032-37d4f2c1fa4e\")) {                    Plotly.newPlot(                        \"83d45b90-c2e6-4507-b032-37d4f2c1fa4e\",                        [{\"hovertemplate\":\"Generation=%{x}\\u003cbr\\u003eReward=%{y}\\u003cextra\\u003e\\u003c\\u002fextra\\u003e\",\"legendgroup\":\"\",\"line\":{\"color\":\"#636efa\",\"dash\":\"solid\"},\"marker\":{\"symbol\":\"circle\"},\"mode\":\"lines\",\"name\":\"\",\"orientation\":\"v\",\"showlegend\":false,\"x\":[0,1,2,3,4,5,6,7,8,9,10,11,12,13,14,15,16,17,18,19,20,21,22,23,24,25,26,27,28,29,30,31,32,33,34,35,36,37,38,39,40,41,42,43,44,45,46,47,48,49,50,51,52,53,54,55,56,57,58,59,60,61,62,63,64,65,66,67,68,69,70,71,72,73,74,75,76,77,78,79,80,81,82,83,84,85,86,87,88,89,90,91,92,93,94,95,96,97,98,99,100,101,102,103,104,105,106,107,108,109,110,111,112,113,114,115,116,117,118,119,120,121,122,123,124,125,126,127,128,129,130,131,132,133,134,135,136,137,138,139,140,141,142,143,144,145,146,147,148,149,150,151,152,153,154,155,156,157,158,159,160,161,162,163,164,165,166,167,168,169,170,171,172,173,174,175,176,177,178,179,180,181,182,183,184,185,186,187,188,189,190,191,192,193,194,195,196,197,198,199,200,201,202,203,204,205,206,207,208,209,210,211,212,213,214,215,216,217,218,219,220,221,222,223,224,225,226,227,228,229,230,231,232,233,234,235,236,237,238,239,240,241,242,243,244,245,246,247,248,249,250,251,252,253,254,255,256,257,258,259,260,261,262,263,264,265,266,267,268,269,270,271,272,273,274,275,276,277,278,279,280,281,282,283,284,285,286,287,288,289,290,291,292,293,294,295,296,297,298,299,300,301,302,303,304,305,306,307,308,309,310,311,312,313,314,315,316,317,318,319,320,321,322,323,324,325,326,327,328,329,330,331,332,333,334,335,336,337,338,339,340,341,342,343,344,345,346,347,348,349,350,351,352,353,354,355,356,357,358,359,360,361,362],\"xaxis\":\"x\",\"y\":[-4197.5,-3663.0,-3514.25,-3356.25,-3210.5,-3066.75,-2919.75,-2780.0,-2665.25,-2564.0,-2474.0,-2410.75,-2355.0,-2301.5,-2248.75,-2205.25,-2164.75,-2131.75,-2088.5,-2048.0,-2004.5,-1950.75,-1913.5,-1875.75,-1841.25,-1801.25,-1776.75,-1747.0,-1714.25,-1693.0,-1658.25,-1624.75,-1591.0,-1567.0,-1536.75,-1511.5,-1497.25,-1481.25,-1457.5,-1445.5,-1428.5,-1411.75,-1394.5,-1370.5,-1356.0,-1339.25,-1328.75,-1313.5,-1308.5,-1293.75,-1281.25,-1261.25,-1242.25,-1225.0,-1206.5,-1197.5,-1179.25,-1158.25,-1144.0,-1127.5,-1106.0,-1095.0,-1075.5,-1057.0,-1052.25,-1045.25,-1031.75,-1013.5,-1005.5,-996.75,-982.75,-959.25,-961.25,-953.5,-944.0,-928.0,-918.75,-910.0,-905.0,-898.25,-891.75,-877.0,-873.5,-872.25,-863.0,-852.0,-841.0,-825.0,-816.5,-807.0,-801.0,-796.0,-782.75,-781.0,-776.25,-768.75,-761.0,-753.75,-745.0,-731.75,-730.0,-727.75,-721.0,-716.25,-705.0,-701.5,-693.0,-684.75,-669.5,-668.0,-659.0,-656.75,-647.0,-640.25,-629.0,-623.0,-621.0,-613.5,-609.25,-602.0,-596.0,-586.0,-573.5,-571.0,-567.75,-566.25,-566.5,-563.25,-558.25,-555.25,-547.25,-543.25,-539.5,-535.75,-532.0,-529.25,-524.75,-523.25,-519.5,-515.5,-507.75,-505.5,-503.25,-497.75,-487.5,-486.25,-480.25,-472.0,-465.25,-459.25,-455.75,-456.0,-450.5,-438.25,-430.75,-432.25,-429.5,-427.25,-427.0,-426.75,-422.5,-421.5,-416.5,-413.0,-404.0,-394.0,-390.0,-390.0,-385.75,-387.5,-388.0,-384.5,-382.0,-382.0,-377.5,-376.25,-371.0,-362.25,-354.5,-353.5,-348.25,-346.0,-336.25,-323.75,-321.5,-313.25,-305.25,-304.0,-300.0,-294.25,-288.0,-283.0,-276.25,-274.0,-267.75,-269.75,-263.25,-265.5,-260.75,-260.0,-250.0,-234.75,-228.25,-223.75,-219.25,-218.25,-224.0,-216.75,-218.0,-214.75,-212.0,-206.25,-202.75,-193.25,-185.0,-186.25,-189.75,-187.75,-186.5,-186.5,-186.75,-185.25,-182.25,-179.75,-178.75,-178.75,-173.75,-175.0,-173.25,-167.5,-162.5,-160.5,-159.25,-153.5,-154.25,-146.25,-148.75,-143.25,-139.5,-138.0,-138.25,-137.25,-135.25,-133.25,-132.75,-129.5,-129.5,-128.75,-128.75,-123.5,-123.75,-121.5,-114.5,-107.5,-105.5,-101.5,-107.0,-104.0,-97.0,-89.0,-88.75,-89.25,-90.0,-89.0,-87.75,-87.0,-84.25,-87.0,-84.25,-82.75,-79.5,-82.75,-82.75,-80.75,-75.25,-74.25,-74.0,-74.0,-75.5,-77.0,-71.75,-73.25,-71.25,-68.0,-65.75,-64.0,-61.25,-62.5,-57.25,-57.5,-55.5,-51.25,-47.75,-49.5,-41.0,-40.5,-40.5,-39.0,-40.0,-39.25,-38.5,-38.5,-37.75,-35.75,-33.5,-34.75,-34.25,-34.5,-36.25,-36.0,-34.25,-33.5,-34.75,-34.25,-30.25,-30.75,-33.25,-33.75,-31.25,-33.0,-33.0,-33.5,-33.5,-35.0,-33.0,-28.75,-29.25,-26.5,-26.5,-28.25,-30.5,-28.75,-31.5,-33.5,-32.0,-33.5,-31.5,-32.75,-31.75,-32.25,-30.75,-29.75,-28.5,-25.75,-25.5,-24.25,-20.25,-18.25,-16.25,-13.75,-14.25,-15.5,-13.25,-11.75,-12.25,-13.5,-8.5,-8.5,-6.5,-3.0,-1.25,-1.75,0.0],\"yaxis\":\"y\",\"type\":\"scatter\"}],                        {\"template\":{\"data\":{\"histogram2dcontour\":[{\"type\":\"histogram2dcontour\",\"colorbar\":{\"outlinewidth\":0,\"ticks\":\"\"},\"colorscale\":[[0.0,\"#0d0887\"],[0.1111111111111111,\"#46039f\"],[0.2222222222222222,\"#7201a8\"],[0.3333333333333333,\"#9c179e\"],[0.4444444444444444,\"#bd3786\"],[0.5555555555555556,\"#d8576b\"],[0.6666666666666666,\"#ed7953\"],[0.7777777777777778,\"#fb9f3a\"],[0.8888888888888888,\"#fdca26\"],[1.0,\"#f0f921\"]]}],\"choropleth\":[{\"type\":\"choropleth\",\"colorbar\":{\"outlinewidth\":0,\"ticks\":\"\"}}],\"histogram2d\":[{\"type\":\"histogram2d\",\"colorbar\":{\"outlinewidth\":0,\"ticks\":\"\"},\"colorscale\":[[0.0,\"#0d0887\"],[0.1111111111111111,\"#46039f\"],[0.2222222222222222,\"#7201a8\"],[0.3333333333333333,\"#9c179e\"],[0.4444444444444444,\"#bd3786\"],[0.5555555555555556,\"#d8576b\"],[0.6666666666666666,\"#ed7953\"],[0.7777777777777778,\"#fb9f3a\"],[0.8888888888888888,\"#fdca26\"],[1.0,\"#f0f921\"]]}],\"heatmap\":[{\"type\":\"heatmap\",\"colorbar\":{\"outlinewidth\":0,\"ticks\":\"\"},\"colorscale\":[[0.0,\"#0d0887\"],[0.1111111111111111,\"#46039f\"],[0.2222222222222222,\"#7201a8\"],[0.3333333333333333,\"#9c179e\"],[0.4444444444444444,\"#bd3786\"],[0.5555555555555556,\"#d8576b\"],[0.6666666666666666,\"#ed7953\"],[0.7777777777777778,\"#fb9f3a\"],[0.8888888888888888,\"#fdca26\"],[1.0,\"#f0f921\"]]}],\"heatmapgl\":[{\"type\":\"heatmapgl\",\"colorbar\":{\"outlinewidth\":0,\"ticks\":\"\"},\"colorscale\":[[0.0,\"#0d0887\"],[0.1111111111111111,\"#46039f\"],[0.2222222222222222,\"#7201a8\"],[0.3333333333333333,\"#9c179e\"],[0.4444444444444444,\"#bd3786\"],[0.5555555555555556,\"#d8576b\"],[0.6666666666666666,\"#ed7953\"],[0.7777777777777778,\"#fb9f3a\"],[0.8888888888888888,\"#fdca26\"],[1.0,\"#f0f921\"]]}],\"contourcarpet\":[{\"type\":\"contourcarpet\",\"colorbar\":{\"outlinewidth\":0,\"ticks\":\"\"}}],\"contour\":[{\"type\":\"contour\",\"colorbar\":{\"outlinewidth\":0,\"ticks\":\"\"},\"colorscale\":[[0.0,\"#0d0887\"],[0.1111111111111111,\"#46039f\"],[0.2222222222222222,\"#7201a8\"],[0.3333333333333333,\"#9c179e\"],[0.4444444444444444,\"#bd3786\"],[0.5555555555555556,\"#d8576b\"],[0.6666666666666666,\"#ed7953\"],[0.7777777777777778,\"#fb9f3a\"],[0.8888888888888888,\"#fdca26\"],[1.0,\"#f0f921\"]]}],\"surface\":[{\"type\":\"surface\",\"colorbar\":{\"outlinewidth\":0,\"ticks\":\"\"},\"colorscale\":[[0.0,\"#0d0887\"],[0.1111111111111111,\"#46039f\"],[0.2222222222222222,\"#7201a8\"],[0.3333333333333333,\"#9c179e\"],[0.4444444444444444,\"#bd3786\"],[0.5555555555555556,\"#d8576b\"],[0.6666666666666666,\"#ed7953\"],[0.7777777777777778,\"#fb9f3a\"],[0.8888888888888888,\"#fdca26\"],[1.0,\"#f0f921\"]]}],\"mesh3d\":[{\"type\":\"mesh3d\",\"colorbar\":{\"outlinewidth\":0,\"ticks\":\"\"}}],\"scatter\":[{\"fillpattern\":{\"fillmode\":\"overlay\",\"size\":10,\"solidity\":0.2},\"type\":\"scatter\"}],\"parcoords\":[{\"type\":\"parcoords\",\"line\":{\"colorbar\":{\"outlinewidth\":0,\"ticks\":\"\"}}}],\"scatterpolargl\":[{\"type\":\"scatterpolargl\",\"marker\":{\"colorbar\":{\"outlinewidth\":0,\"ticks\":\"\"}}}],\"bar\":[{\"error_x\":{\"color\":\"#2a3f5f\"},\"error_y\":{\"color\":\"#2a3f5f\"},\"marker\":{\"line\":{\"color\":\"#E5ECF6\",\"width\":0.5},\"pattern\":{\"fillmode\":\"overlay\",\"size\":10,\"solidity\":0.2}},\"type\":\"bar\"}],\"scattergeo\":[{\"type\":\"scattergeo\",\"marker\":{\"colorbar\":{\"outlinewidth\":0,\"ticks\":\"\"}}}],\"scatterpolar\":[{\"type\":\"scatterpolar\",\"marker\":{\"colorbar\":{\"outlinewidth\":0,\"ticks\":\"\"}}}],\"histogram\":[{\"marker\":{\"pattern\":{\"fillmode\":\"overlay\",\"size\":10,\"solidity\":0.2}},\"type\":\"histogram\"}],\"scattergl\":[{\"type\":\"scattergl\",\"marker\":{\"colorbar\":{\"outlinewidth\":0,\"ticks\":\"\"}}}],\"scatter3d\":[{\"type\":\"scatter3d\",\"line\":{\"colorbar\":{\"outlinewidth\":0,\"ticks\":\"\"}},\"marker\":{\"colorbar\":{\"outlinewidth\":0,\"ticks\":\"\"}}}],\"scattermapbox\":[{\"type\":\"scattermapbox\",\"marker\":{\"colorbar\":{\"outlinewidth\":0,\"ticks\":\"\"}}}],\"scatterternary\":[{\"type\":\"scatterternary\",\"marker\":{\"colorbar\":{\"outlinewidth\":0,\"ticks\":\"\"}}}],\"scattercarpet\":[{\"type\":\"scattercarpet\",\"marker\":{\"colorbar\":{\"outlinewidth\":0,\"ticks\":\"\"}}}],\"carpet\":[{\"aaxis\":{\"endlinecolor\":\"#2a3f5f\",\"gridcolor\":\"white\",\"linecolor\":\"white\",\"minorgridcolor\":\"white\",\"startlinecolor\":\"#2a3f5f\"},\"baxis\":{\"endlinecolor\":\"#2a3f5f\",\"gridcolor\":\"white\",\"linecolor\":\"white\",\"minorgridcolor\":\"white\",\"startlinecolor\":\"#2a3f5f\"},\"type\":\"carpet\"}],\"table\":[{\"cells\":{\"fill\":{\"color\":\"#EBF0F8\"},\"line\":{\"color\":\"white\"}},\"header\":{\"fill\":{\"color\":\"#C8D4E3\"},\"line\":{\"color\":\"white\"}},\"type\":\"table\"}],\"barpolar\":[{\"marker\":{\"line\":{\"color\":\"#E5ECF6\",\"width\":0.5},\"pattern\":{\"fillmode\":\"overlay\",\"size\":10,\"solidity\":0.2}},\"type\":\"barpolar\"}],\"pie\":[{\"automargin\":true,\"type\":\"pie\"}]},\"layout\":{\"autotypenumbers\":\"strict\",\"colorway\":[\"#636efa\",\"#EF553B\",\"#00cc96\",\"#ab63fa\",\"#FFA15A\",\"#19d3f3\",\"#FF6692\",\"#B6E880\",\"#FF97FF\",\"#FECB52\"],\"font\":{\"color\":\"#2a3f5f\"},\"hovermode\":\"closest\",\"hoverlabel\":{\"align\":\"left\"},\"paper_bgcolor\":\"white\",\"plot_bgcolor\":\"#E5ECF6\",\"polar\":{\"bgcolor\":\"#E5ECF6\",\"angularaxis\":{\"gridcolor\":\"white\",\"linecolor\":\"white\",\"ticks\":\"\"},\"radialaxis\":{\"gridcolor\":\"white\",\"linecolor\":\"white\",\"ticks\":\"\"}},\"ternary\":{\"bgcolor\":\"#E5ECF6\",\"aaxis\":{\"gridcolor\":\"white\",\"linecolor\":\"white\",\"ticks\":\"\"},\"baxis\":{\"gridcolor\":\"white\",\"linecolor\":\"white\",\"ticks\":\"\"},\"caxis\":{\"gridcolor\":\"white\",\"linecolor\":\"white\",\"ticks\":\"\"}},\"coloraxis\":{\"colorbar\":{\"outlinewidth\":0,\"ticks\":\"\"}},\"colorscale\":{\"sequential\":[[0.0,\"#0d0887\"],[0.1111111111111111,\"#46039f\"],[0.2222222222222222,\"#7201a8\"],[0.3333333333333333,\"#9c179e\"],[0.4444444444444444,\"#bd3786\"],[0.5555555555555556,\"#d8576b\"],[0.6666666666666666,\"#ed7953\"],[0.7777777777777778,\"#fb9f3a\"],[0.8888888888888888,\"#fdca26\"],[1.0,\"#f0f921\"]],\"sequentialminus\":[[0.0,\"#0d0887\"],[0.1111111111111111,\"#46039f\"],[0.2222222222222222,\"#7201a8\"],[0.3333333333333333,\"#9c179e\"],[0.4444444444444444,\"#bd3786\"],[0.5555555555555556,\"#d8576b\"],[0.6666666666666666,\"#ed7953\"],[0.7777777777777778,\"#fb9f3a\"],[0.8888888888888888,\"#fdca26\"],[1.0,\"#f0f921\"]],\"diverging\":[[0,\"#8e0152\"],[0.1,\"#c51b7d\"],[0.2,\"#de77ae\"],[0.3,\"#f1b6da\"],[0.4,\"#fde0ef\"],[0.5,\"#f7f7f7\"],[0.6,\"#e6f5d0\"],[0.7,\"#b8e186\"],[0.8,\"#7fbc41\"],[0.9,\"#4d9221\"],[1,\"#276419\"]]},\"xaxis\":{\"gridcolor\":\"white\",\"linecolor\":\"white\",\"ticks\":\"\",\"title\":{\"standoff\":15},\"zerolinecolor\":\"white\",\"automargin\":true,\"zerolinewidth\":2},\"yaxis\":{\"gridcolor\":\"white\",\"linecolor\":\"white\",\"ticks\":\"\",\"title\":{\"standoff\":15},\"zerolinecolor\":\"white\",\"automargin\":true,\"zerolinewidth\":2},\"scene\":{\"xaxis\":{\"backgroundcolor\":\"#E5ECF6\",\"gridcolor\":\"white\",\"linecolor\":\"white\",\"showbackground\":true,\"ticks\":\"\",\"zerolinecolor\":\"white\",\"gridwidth\":2},\"yaxis\":{\"backgroundcolor\":\"#E5ECF6\",\"gridcolor\":\"white\",\"linecolor\":\"white\",\"showbackground\":true,\"ticks\":\"\",\"zerolinecolor\":\"white\",\"gridwidth\":2},\"zaxis\":{\"backgroundcolor\":\"#E5ECF6\",\"gridcolor\":\"white\",\"linecolor\":\"white\",\"showbackground\":true,\"ticks\":\"\",\"zerolinecolor\":\"white\",\"gridwidth\":2}},\"shapedefaults\":{\"line\":{\"color\":\"#2a3f5f\"}},\"annotationdefaults\":{\"arrowcolor\":\"#2a3f5f\",\"arrowhead\":0,\"arrowwidth\":1},\"geo\":{\"bgcolor\":\"white\",\"landcolor\":\"#E5ECF6\",\"subunitcolor\":\"white\",\"showland\":true,\"showlakes\":true,\"lakecolor\":\"white\"},\"title\":{\"x\":0.05},\"mapbox\":{\"style\":\"light\"}}},\"xaxis\":{\"anchor\":\"y\",\"domain\":[0.0,1.0],\"title\":{\"text\":\"Generation\"}},\"yaxis\":{\"anchor\":\"x\",\"domain\":[0.0,1.0],\"title\":{\"text\":\"Reward\"}},\"legend\":{\"tracegroupgap\":0},\"title\":{\"text\":\"Reward Progression\",\"x\":0.5}},                        {\"responsive\": true}                    ).then(function(){\n",
       "                            \n",
       "var gd = document.getElementById('83d45b90-c2e6-4507-b032-37d4f2c1fa4e');\n",
       "var x = new MutationObserver(function (mutations, observer) {{\n",
       "        var display = window.getComputedStyle(gd).display;\n",
       "        if (!display || display === 'none') {{\n",
       "            console.log([gd, 'removed!']);\n",
       "            Plotly.purge(gd);\n",
       "            observer.disconnect();\n",
       "        }}\n",
       "}});\n",
       "\n",
       "// Listen for the removal of the full notebook cells\n",
       "var notebookContainer = gd.closest('#notebook-container');\n",
       "if (notebookContainer) {{\n",
       "    x.observe(notebookContainer, {childList: true});\n",
       "}}\n",
       "\n",
       "// Listen for the clearing of the current output cell\n",
       "var outputEl = gd.closest('.output');\n",
       "if (outputEl) {{\n",
       "    x.observe(outputEl, {childList: true});\n",
       "}}\n",
       "\n",
       "                        })                };                });            </script>        </div>"
      ]
     },
     "metadata": {},
     "output_type": "display_data"
    }
   ],
   "source": [
    "fig = px.line(x=list(range(len(all_rewards))), y=all_rewards, \n",
    "              labels={'x': 'Generation', 'y': 'Reward'}, title='Reward Progression') \n",
    "fig.update_layout(title_x=0.5)\n",
    "fig.show()"
   ]
  },
  {
   "cell_type": "code",
   "execution_count": 14,
   "metadata": {},
   "outputs": [
    {
     "name": "stdout",
     "output_type": "stream",
     "text": [
      "Aa1Cc3Fb2Eb3Ga2Gc1Da2Gb3Gc1Dc3Eb1Ga2Bb3Ec2Fa1Db1Gc3Ca2Ab3Fc1Ba2Bb1Ea3Dc2Ga3Gb1Ec2Gc3Ea1Ab2Ac2Ga1Gb3Bc2Ca3Cb1Fb3Da2Bc1Aa1Gb2Ac3Gb2Gc3Fa1Ba1Db2Gc3Fc2Ga1Cb3Cc3Ga2Gb1\n",
      "Aa1Cc3Fb2Eb3Ga2Gc1Da2Gb3Gc1Dc3Eb1Ga2Bb3Ec2Fa1Db1Gc3Ca2Ab3Fc1Ba2Bb1Ea3Dc2Ga3Gb1Ec2Gc3Ea1Ab2Ac2Ga1Gb3Bc2Ca3Cb1Fb3Da2Bc1Aa1Ab2Ac3Gb2Gc3Fa1Ba1Db2Gc3Fc2Ga1Cb3Cc3Ga2Gb1\n"
     ]
    }
   ],
   "source": [
    "print(reward5[0])\n",
    "print(reward5[420])\n",
    "\n"
   ]
  },
  {
   "cell_type": "code",
   "execution_count": 15,
   "metadata": {},
   "outputs": [],
   "source": [
    "def display(gene):\n",
    "        '''\n",
    "        Convert the gene code to a user understandable table\n",
    "        Shambhav\n",
    "        '''\n",
    "        random = gene\n",
    "        \n",
    "        courses = [\"PHYS 101\",\"MATH 101\",\"MATH 103\",\"CHEM 101\",\"BIOL 103\",\"COMP 102\",\"Break\",\n",
    "                   \"MCSC 201\",\"MATH 201\",\"MATH 204\",\"MATH 208\",\"COMP 202\",\"EEEG 202\",\"Break\",\n",
    "                   \"MATH 302\",\"MATH 304\",\"MATH 326\",\"MGTS 301\",\"COMP 315\",\"COMP 316\",\"Break\"]\n",
    "        #splitting the string into 3 elements each\n",
    "        n = 3\n",
    "        new_list = [random[i:i+n] for i in range(0, len(random), n)]\n",
    "\n",
    "        days = ['Sunday', 'Monday', 'Tuesday', 'Wednesday', 'Thursday', 'Friday']\n",
    "        a = []\n",
    "        b = []\n",
    "        c = []\n",
    "        for j in range(0, len(new_list)):\n",
    "            x = new_list[j][1]\n",
    "            y = new_list[j][0]\n",
    "            i = 7 * (ord(x) - ord('a')) + (ord(y)- ord('A'))\n",
    "            if ( x == 'a'):\n",
    "                a.append(courses[i])\n",
    "            if ( x == 'b'):\n",
    "                b.append(courses[i])\n",
    "            if ( x == 'c'):\n",
    "                c.append(courses[i])\n",
    "\n",
    "        t_1 = [[a[j + i*3] for i in range(6)] for j in range(3)]\n",
    "        t_2 = [[b[j + i*3] for i in range(6)] for j in range(3)]\n",
    "        t_3 = [[c[j + i*3] for i in range(6)] for j in range(3)]\n",
    "        print()\n",
    "        print(\"                       Routine for 1st SEMESTER\")\n",
    "        print(tabulate(t_1, headers = days, tablefmt=\"fancy_grid\"))\n",
    "        print()\n",
    "        print(\"                       Routine for 3rd SEMESTER\")\n",
    "        print(tabulate(t_2, headers = days, tablefmt=\"fancy_grid\"))\n",
    "        print()\n",
    "        print(\"                       Routine for 5th SEMESTER\")\n",
    "        print(tabulate(t_3, headers = days, tablefmt=\"fancy_grid\"))"
   ]
  },
  {
   "cell_type": "code",
   "execution_count": 16,
   "metadata": {},
   "outputs": [
    {
     "name": "stdout",
     "output_type": "stream",
     "text": [
      "\n",
      "                       Routine for 1st SEMESTER\n",
      "╒══════════╤══════════╤═══════════╤═════════════╤════════════╤══════════╕\n",
      "│ Sunday   │ Monday   │ Tuesday   │ Wednesday   │ Thursday   │ Friday   │\n",
      "╞══════════╪══════════╪═══════════╪═════════════╪════════════╪══════════╡\n",
      "│ PHYS 101 │ Break    │ MATH 101  │ BIOL 103    │ CHEM 101   │ MATH 101 │\n",
      "├──────────┼──────────┼───────────┼─────────────┼────────────┼──────────┤\n",
      "│ Break    │ COMP 102 │ BIOL 103  │ Break       │ PHYS 101   │ Break    │\n",
      "├──────────┼──────────┼───────────┼─────────────┼────────────┼──────────┤\n",
      "│ CHEM 101 │ MATH 103 │ Break     │ MATH 103    │ COMP 102   │ Break    │\n",
      "╘══════════╧══════════╧═══════════╧═════════════╧════════════╧══════════╛\n",
      "\n",
      "                       Routine for 3rd SEMESTER\n",
      "╒══════════╤══════════╤═══════════╤═════════════╤════════════╤══════════╕\n",
      "│ Sunday   │ Monday   │ Tuesday   │ Wednesday   │ Thursday   │ Friday   │\n",
      "╞══════════╪══════════╪═══════════╪═════════════╪════════════╪══════════╡\n",
      "│ EEEG 202 │ COMP 202 │ MCSC 201  │ MCSC 201    │ EEEG 202   │ MATH 208 │\n",
      "├──────────┼──────────┼───────────┼─────────────┼────────────┼──────────┤\n",
      "│ COMP 202 │ MATH 201 │ MATH 201  │ Break       │ Break      │ MATH 204 │\n",
      "├──────────┼──────────┼───────────┼─────────────┼────────────┼──────────┤\n",
      "│ Break    │ MATH 208 │ Break     │ MATH 204    │ Break      │ Break    │\n",
      "╘══════════╧══════════╧═══════════╧═════════════╧════════════╧══════════╛\n",
      "\n",
      "                       Routine for 5th SEMESTER\n",
      "╒══════════╤══════════╤═══════════╤═════════════╤════════════╤══════════╕\n",
      "│ Sunday   │ Monday   │ Tuesday   │ Wednesday   │ Thursday   │ Friday   │\n",
      "╞══════════╪══════════╪═══════════╪═════════════╪════════════╪══════════╡\n",
      "│ MATH 326 │ MGTS 301 │ COMP 316  │ Break       │ MATH 304   │ Break    │\n",
      "├──────────┼──────────┼───────────┼─────────────┼────────────┼──────────┤\n",
      "│ Break    │ COMP 315 │ MGTS 301  │ MATH 302    │ MATH 302   │ COMP 316 │\n",
      "├──────────┼──────────┼───────────┼─────────────┼────────────┼──────────┤\n",
      "│ Break    │ Break    │ COMP 315  │ MATH 304    │ Break      │ MATH 326 │\n",
      "╘══════════╧══════════╧═══════════╧═════════════╧════════════╧══════════╛\n"
     ]
    }
   ],
   "source": [
    "display(reward5[0])"
   ]
  },
  {
   "cell_type": "code",
   "execution_count": 17,
   "metadata": {},
   "outputs": [
    {
     "name": "stdout",
     "output_type": "stream",
     "text": [
      "\n",
      "                       Routine for 1st SEMESTER\n",
      "╒══════════╤══════════╤═══════════╤═════════════╤════════════╤══════════╕\n",
      "│ Sunday   │ Monday   │ Tuesday   │ Wednesday   │ Thursday   │ Friday   │\n",
      "╞══════════╪══════════╪═══════════╪═════════════╪════════════╪══════════╡\n",
      "│ PHYS 101 │ Break    │ MATH 101  │ BIOL 103    │ CHEM 101   │ MATH 101 │\n",
      "├──────────┼──────────┼───────────┼─────────────┼────────────┼──────────┤\n",
      "│ Break    │ COMP 102 │ BIOL 103  │ Break       │ PHYS 101   │ Break    │\n",
      "├──────────┼──────────┼───────────┼─────────────┼────────────┼──────────┤\n",
      "│ CHEM 101 │ MATH 103 │ Break     │ MATH 103    │ COMP 102   │ Break    │\n",
      "╘══════════╧══════════╧═══════════╧═════════════╧════════════╧══════════╛\n",
      "\n",
      "                       Routine for 3rd SEMESTER\n",
      "╒══════════╤══════════╤═══════════╤═════════════╤════════════╤══════════╕\n",
      "│ Sunday   │ Monday   │ Tuesday   │ Wednesday   │ Thursday   │ Friday   │\n",
      "╞══════════╪══════════╪═══════════╪═════════════╪════════════╪══════════╡\n",
      "│ EEEG 202 │ COMP 202 │ MCSC 201  │ MCSC 201    │ EEEG 202   │ MATH 208 │\n",
      "├──────────┼──────────┼───────────┼─────────────┼────────────┼──────────┤\n",
      "│ COMP 202 │ MATH 201 │ MATH 201  │ Break       │ MCSC 201   │ MATH 204 │\n",
      "├──────────┼──────────┼───────────┼─────────────┼────────────┼──────────┤\n",
      "│ Break    │ MATH 208 │ Break     │ MATH 204    │ Break      │ Break    │\n",
      "╘══════════╧══════════╧═══════════╧═════════════╧════════════╧══════════╛\n",
      "\n",
      "                       Routine for 5th SEMESTER\n",
      "╒══════════╤══════════╤═══════════╤═════════════╤════════════╤══════════╕\n",
      "│ Sunday   │ Monday   │ Tuesday   │ Wednesday   │ Thursday   │ Friday   │\n",
      "╞══════════╪══════════╪═══════════╪═════════════╪════════════╪══════════╡\n",
      "│ MATH 326 │ MGTS 301 │ COMP 316  │ Break       │ MATH 304   │ Break    │\n",
      "├──────────┼──────────┼───────────┼─────────────┼────────────┼──────────┤\n",
      "│ Break    │ COMP 315 │ MGTS 301  │ MATH 302    │ MATH 302   │ COMP 316 │\n",
      "├──────────┼──────────┼───────────┼─────────────┼────────────┼──────────┤\n",
      "│ Break    │ Break    │ COMP 315  │ MATH 304    │ Break      │ MATH 326 │\n",
      "╘══════════╧══════════╧═══════════╧═════════════╧════════════╧══════════╛\n"
     ]
    }
   ],
   "source": [
    "display(reward5[420])"
   ]
  },
  {
   "cell_type": "code",
   "execution_count": 9,
   "metadata": {},
   "outputs": [
    {
     "data": {
      "text/plain": [
       "500"
      ]
     },
     "execution_count": 9,
     "metadata": {},
     "output_type": "execute_result"
    }
   ],
   "source": [
    "len(reward5)"
   ]
  },
  {
   "cell_type": "code",
   "execution_count": null,
   "metadata": {},
   "outputs": [],
   "source": []
  }
 ],
 "metadata": {
  "kernelspec": {
   "display_name": "Python 3 (ipykernel)",
   "language": "python",
   "name": "python3"
  },
  "language_info": {
   "codemirror_mode": {
    "name": "ipython",
    "version": 3
   },
   "file_extension": ".py",
   "mimetype": "text/x-python",
   "name": "python",
   "nbconvert_exporter": "python",
   "pygments_lexer": "ipython3",
   "version": "3.8.10"
  }
 },
 "nbformat": 4,
 "nbformat_minor": 4
}
