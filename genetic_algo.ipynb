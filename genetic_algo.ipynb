{
 "cells": [
  {
   "cell_type": "markdown",
   "metadata": {},
   "source": [
    "# rough\n",
    "atom = part of gene ex: 'Aa2'\n",
    "\n",
    "## legitimacy of gene\n",
    "one student group must have at most 18 classes per week\n",
    "\n",
    "Only one occurance for one subject A-G only once per day\n",
    "\n",
    "Same classroom cannot have two student groups at once\n",
    "\n",
    "Once subject only twice per week\n",
    "\n",
    "## Conflict score\n"
   ]
  },
  {
   "cell_type": "markdown",
   "metadata": {},
   "source": [
    "1. legitimacy check"
   ]
  },
  {
   "cell_type": "code",
   "execution_count": 1,
   "metadata": {},
   "outputs": [],
   "source": [
    "# creates list of all atoms\n",
    "\n",
    "random = \"Aa1Bb2Cc3Da1Eb2Fc3Ga1Aa2Bb3Ca1Db2Ec3Fa1Ga2Ab3Ba1Cb2Dc3Ea1Fa2Ga3Aa1Ba2Cb3Da1Ea2Fa3Ga1Ab2Bb3Cc1Dc2Ea3Fa1Ga2Aa3Ba1Bb2Cb3Da1Ec2Fa3Ga1Ab2Bb3Cc1Dc2Ea3Fa1Ga2Aa3Ba1Bb2Cb3\"\n",
    "n = 3\n",
    "new_list = [random[i:i+n] for i in range(0, len(random), n)]\n",
    "table_1 = [] \n",
    "table_2 = [] \n",
    "table_3 = []\n",
    "\n",
    "count_table_1 = 0\n",
    "count_table_2 = 0 \n",
    "count_table_3 = 0\n",
    "\n",
    "for j in range(0, len(new_list)):\n",
    "    if (new_list[j][1]== 'a'):\n",
    "        count_table_1 += 1\n",
    "    if (new_list[j][1]== 'b'):\n",
    "        count_table_2 += 1\n",
    "    if (new_list[j][1]== 'c'):\n",
    "        count_table_3 += 1\n",
    "\n",
    "if count_table_1 != 18:\n",
    "    print('error in numbers of atoms in schedule 1')\n",
    "if count_table_2 != 18:\n",
    "    print('error in numbers of atoms in schedule 2')\n",
    "if count_table_3 != 18:\n",
    "    print('error in numbers of atoms in schedule 3')\n"
   ]
  },
  {
   "cell_type": "code",
   "execution_count": null,
   "metadata": {},
   "outputs": [],
   "source": []
  }
 ],
 "metadata": {
  "kernelspec": {
   "display_name": "Python 3",
   "language": "python",
   "name": "python3"
  },
  "language_info": {
   "codemirror_mode": {
    "name": "ipython",
    "version": 3
   },
   "file_extension": ".py",
   "mimetype": "text/x-python",
   "name": "python",
   "nbconvert_exporter": "python",
   "pygments_lexer": "ipython3",
   "version": "3.10.1"
  },
  "orig_nbformat": 4
 },
 "nbformat": 4,
 "nbformat_minor": 2
}
